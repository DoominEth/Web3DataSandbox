{
 "cells": [
  {
   "cell_type": "code",
   "execution_count": 18,
   "id": "f0cb6722-8f58-4fdc-9ba1-0ba405bd228e",
   "metadata": {},
   "outputs": [],
   "source": [
    "#Begining\n",
    "import pandas as pd\n",
    "import numpy as np\n",
    "import matplotlib\n",
    "import matplotlib.pyplot as plt\n",
    "import matplotlib.dates as mdates\n",
    "from matplotlib import cm\n",
    "import os\n",
    "%matplotlib inline\n",
    "##Get Enviroment\n",
    "from os.path import join, dirname\n",
    "from dotenv import load_dotenv\n",
    "dotenv_path = join(dirname(''), '.env')\n",
    "load_dotenv(dotenv_path)\n",
    "import datetime \n",
    "import requests\n",
    "from pandas.errors import ParserError\n",
    "from dateutil.parser import parse\n",
    "\n",
    "from web3 import Web3, EthereumTesterProvider\n",
    "from duneAPI import Dune_API\n",
    "from web3Contract import web3Contract\n",
    "from snapshotAPI import snapshotAPI\n",
    "\n",
    "from etherscan import Etherscan\n",
    "\n",
    "import json\n",
    "import math\n",
    "from duneanalytics import DuneAnalytics"
   ]
  },
  {
   "cell_type": "markdown",
   "id": "9d268760-15ad-4501-9da2-ce376357edd9",
   "metadata": {},
   "source": [
    "### Your Credentials"
   ]
  },
  {
   "cell_type": "markdown",
   "id": "0e75d1df-01f7-41f8-b7ff-2d2012aded59",
   "metadata": {},
   "source": [
    "The following variables are called from a .env file inside the root of the project folder. (You will need to create this file.)\n",
    "You will need :\n",
    "- A Dune Account (https://www.dune.com)\n",
    "    - Login\n",
    "    - Email\n",
    "- An infura Account (https://www.infura.io/)\n",
    "    - Endpoint\n",
    "    - API Key\n",
    "- An Etherscan Account (https://etherscan.io/)\n",
    "    - API Key\n",
    "    "
   ]
  },
  {
   "cell_type": "code",
   "execution_count": 19,
   "id": "809f4d33-78e1-46cb-a321-96bfec47e4e1",
   "metadata": {},
   "outputs": [],
   "source": [
    "DUNE_LOGIN = os.environ.get(\"DUNE_LOGIN\")\n",
    "DUNE_EMAIL = os.environ.get(\"DUNE_EMAIL\")\n",
    "INFURA_API = os.environ.get(\"INFURA_API\")\n",
    "INFURA_ENDPOINT = os.environ.get(\"INFURA_ENDPOINT\")\n",
    "ETHERSCAN_API = os.environ.get(\"ETHERSCAN_API\")"
   ]
  },
  {
   "cell_type": "markdown",
   "id": "0624811c-2d39-439d-bb06-9470854f98a3",
   "metadata": {},
   "source": [
    "### Setup of Dune "
   ]
  },
  {
   "cell_type": "markdown",
   "id": "83462b00-ea17-4966-941c-b68c888e5b1a",
   "metadata": {},
   "source": [
    "This instantiates the Dune class, simply copy the ID associated with your dune Query and pass it to the 'Create_DF' function to turn your Query into a data Frame i.e https://dune.com/queries/1889812"
   ]
  },
  {
   "cell_type": "code",
   "execution_count": 20,
   "id": "4d4f05b7-a8c0-4a32-b7eb-bbbae0523d0c",
   "metadata": {},
   "outputs": [],
   "source": [
    "dune = Dune_API( DUNE_EMAIL,DUNE_LOGIN)\n",
    "#randData = dune.create_DF(1889812)"
   ]
  },
  {
   "cell_type": "markdown",
   "id": "deebc70f-18b1-47c0-af83-33ec3075f2bd",
   "metadata": {},
   "source": [
    "### Setup Web3"
   ]
  },
  {
   "cell_type": "markdown",
   "id": "13b20d55-c875-4cd3-9b54-ef99dfe78fe4",
   "metadata": {},
   "source": [
    "The web3 library will help us connect to the blockchain to pull live data from smart contracts. "
   ]
  },
  {
   "cell_type": "code",
   "execution_count": 21,
   "id": "07e4875c-93f8-4076-905d-4f63a20bd556",
   "metadata": {},
   "outputs": [],
   "source": [
    "web3 =  Web3(Web3.HTTPProvider(INFURA_ENDPOINT))\n"
   ]
  },
  {
   "cell_type": "markdown",
   "id": "6ffed60e-049b-4ff0-b5f7-74d86810b207",
   "metadata": {},
   "source": [
    "### Setup Etherscan "
   ]
  },
  {
   "cell_type": "markdown",
   "id": "06148974-81a5-4d53-803f-aab580c24767",
   "metadata": {},
   "source": [
    "The Etherscan API will help with creating instances of the web3 smart contracts as we can get the ABI code from Etherscan directly."
   ]
  },
  {
   "cell_type": "code",
   "execution_count": 22,
   "id": "a188487b-4062-4968-8dce-66ecf62e4ccd",
   "metadata": {},
   "outputs": [],
   "source": [
    "etherscan = Etherscan(ETHERSCAN_API)"
   ]
  },
  {
   "cell_type": "markdown",
   "id": "af24f6f9-afdc-426c-aeea-0f439692dd36",
   "metadata": {},
   "source": [
    "### Smart Contract Composition"
   ]
  },
  {
   "cell_type": "code",
   "execution_count": 23,
   "id": "36e0f567-a15c-4ded-9795-387d2be09c60",
   "metadata": {},
   "outputs": [],
   "source": [
    "class Node:\n",
    "    def __init__(self, name, value, address, children=[]):\n",
    "        self.name = name\n",
    "        self.value = value\n",
    "        self.children = children\n",
    "        self.searched = False\n",
    "        self.address = Web3.toChecksumAddress(address)"
   ]
  },
  {
   "cell_type": "code",
   "execution_count": 24,
   "id": "ecee5754-d162-4370-a539-b529fbe962c3",
   "metadata": {},
   "outputs": [],
   "source": [
    "def depth_first_search(node, depth, current_depth=0, nodeIterator=0):\n",
    "    if current_depth >= depth: #Escape after depth reached or exceeded\n",
    "        return\n",
    "    \n",
    "    availibleABI = True\n",
    "    \n",
    "    #Handler for non verified smart contracts on etherscan\n",
    "    try:\n",
    "        contractABI = etherscan.get_contract_abi(node.address) #Use Etherscan API to get the contracts ABI\n",
    "    except:\n",
    "        availibleABI = False #unavailible ABI (contract code not verified)\n",
    "    \n",
    "    if availibleABI: #If contract's ABI is verified\n",
    "        contractInstance = web3.eth.contract(address=node.address, abi=contractABI) #Use web3 Library to create an instantiation of the contract\n",
    "        contractABI = json.loads(contractABI) #convert ABI to json format\n",
    "\n",
    "        for i in range(len(contractABI)): #Examine all functions/methods/variables in the ABI\n",
    "            if node.searched: #Return if node already examined\n",
    "                return\n",
    "            try:\n",
    "                if contractABI[i]['outputs'][0]['type'] == 'address': #Searching exclusively for addresses on the contract\n",
    "                    if len(contractABI[i]['inputs']) == 0:  #Check function call does not require input\n",
    "                        childAddress = eval(\"contractInstance.\"+\"functions.\"+contractABI[i]['name']+\"()\"+\".call()\") #RPC call to the contract, return the 20byte address\n",
    "                        child = Node(contractABI[i]['name'], nodeIterator, childAddress, []) #create node\n",
    "                        node.children.append(child) #Append child node\n",
    "                        nodeIterator += 1 \n",
    "                        print(f'Searching node {nodeIterator}')\n",
    "            except:\n",
    "                pass\n",
    "\n",
    "        for child in node.children:\n",
    "            child.name\n",
    "            depth_first_search(child, depth, current_depth+1, nodeIterator)\n",
    "\n",
    "        node.searched = True\n",
    "    else: \n",
    "        print('Warning: ABI Not found for this contract')\n",
    "        node.name = 'NO ABI AVAILIBLE'\n",
    "        pass"
   ]
  },
  {
   "cell_type": "code",
   "execution_count": 25,
   "id": "0ea63137-29c2-435d-b675-817e04607f1f",
   "metadata": {},
   "outputs": [],
   "source": [
    "root = Node(\"root\", 0, '0xBC89cd85491d81C6AD2954E6d0362Ee29fCa8F53')"
   ]
  },
  {
   "cell_type": "code",
   "execution_count": 26,
   "id": "5a7ed65f-a2bd-4a3c-bc2f-09bb04f35677",
   "metadata": {},
   "outputs": [
    {
     "data": {
      "text/plain": [
       "[]"
      ]
     },
     "execution_count": 26,
     "metadata": {},
     "output_type": "execute_result"
    }
   ],
   "source": [
    "root.children"
   ]
  },
  {
   "cell_type": "code",
   "execution_count": 27,
   "id": "1d44fb37-f6e1-40e5-a7d1-5401b85febfa",
   "metadata": {},
   "outputs": [
    {
     "name": "stdout",
     "output_type": "stream",
     "text": [
      "Searching node 1\n",
      "Searching node 2\n",
      "Searching node 3\n",
      "Searching node 4\n",
      "Searching node 5\n",
      "Searching node 6\n",
      "Searching node 7\n",
      "Searching node 8\n",
      "Searching node 7\n",
      "Searching node 8\n",
      "Searching node 5\n",
      "Searching node 6\n",
      "Searching node 7\n",
      "Searching node 8\n",
      "Searching node 9\n",
      "Searching node 10\n",
      "Searching node 9\n",
      "Searching node 10\n",
      "Searching node 9\n",
      "Searching node 10\n",
      "Searching node 9\n",
      "Searching node 10\n",
      "Searching node 11\n",
      "Searching node 12\n",
      "Searching node 13\n",
      "Searching node 14\n",
      "Searching node 5\n",
      "Searching node 6\n",
      "Searching node 7\n",
      "Searching node 8\n",
      "Searching node 9\n",
      "Searching node 10\n",
      "Searching node 11\n",
      "Searching node 12\n",
      "Warning: ABI Not found for this contract\n",
      "Searching node 11\n",
      "Searching node 12\n",
      "Searching node 13\n",
      "Searching node 11\n",
      "Searching node 12\n",
      "Searching node 13\n",
      "Searching node 11\n",
      "Searching node 12\n",
      "Searching node 11\n",
      "Searching node 12\n"
     ]
    }
   ],
   "source": [
    "depth_first_search(root, 3, 0)"
   ]
  },
  {
   "cell_type": "code",
   "execution_count": 28,
   "id": "e5c4ce4c-ac0c-40b8-9279-1bbe2ec881eb",
   "metadata": {},
   "outputs": [
    {
     "name": "stdout",
     "output_type": "stream",
     "text": [
      "root: \t0xBC89cd85491d81C6AD2954E6d0362Ee29fCa8F53\n",
      "    crv_token: \t0xD533a949740bb3306d119CC777fa900bA034cd52\n",
      "        minter: \t0xd061D61a4d941c39E5453435B6345Dc261C2fcE0\n",
      "            token: \t0xD533a949740bb3306d119CC777fa900bA034cd52\n",
      "            controller: \t0x2F50D538606Fa9EDD2B11E2446BEb18C9D5846bB\n",
      "        admin: \t0x40907540d8a6C65c637785e8f8B742ae6b0b9968\n",
      "            implementation: \t0x3A93C17FC82CC33420d1809dDA9Fb715cc89dd37\n",
      "            kernel: \t0xad06868167BC5Ac5cFcbEf2CAFa82bc76961D72d\n",
      "    lp_token: \t0x9fC689CCaDa600B6DF723D9E47D84d76664a1F23\n",
      "    controller: \t0x2F50D538606Fa9EDD2B11E2446BEb18C9D5846bB\n",
      "        admin: \t0x40907540d8a6C65c637785e8f8B742ae6b0b9968\n",
      "            implementation: \t0x3A93C17FC82CC33420d1809dDA9Fb715cc89dd37\n",
      "            kernel: \t0xad06868167BC5Ac5cFcbEf2CAFa82bc76961D72d\n",
      "        future_admin: \t0x40907540d8a6C65c637785e8f8B742ae6b0b9968\n",
      "            implementation: \t0x3A93C17FC82CC33420d1809dDA9Fb715cc89dd37\n",
      "            kernel: \t0xad06868167BC5Ac5cFcbEf2CAFa82bc76961D72d\n",
      "        token: \t0xD533a949740bb3306d119CC777fa900bA034cd52\n",
      "            minter: \t0xd061D61a4d941c39E5453435B6345Dc261C2fcE0\n",
      "            admin: \t0x40907540d8a6C65c637785e8f8B742ae6b0b9968\n",
      "        voting_escrow: \t0x5f3b5DfEb7B28CDbD7FAba78963EE202a494e2A2\n",
      "            token: \t0xD533a949740bb3306d119CC777fa900bA034cd52\n",
      "            controller: \t0xc4AD0Ef33A0A4ddA3461c479ccb6c36d1e4B7Be4\n",
      "            future_smart_wallet_checker: \t0xca719728Ef172d0961768581fdF35CB116e0B7a4\n",
      "            smart_wallet_checker: \t0xca719728Ef172d0961768581fdF35CB116e0B7a4\n",
      "            admin: \t0x40907540d8a6C65c637785e8f8B742ae6b0b9968\n",
      "            future_admin: \t0x40907540d8a6C65c637785e8f8B742ae6b0b9968\n",
      "    voting_escrow: \t0x5f3b5DfEb7B28CDbD7FAba78963EE202a494e2A2\n",
      "        token: \t0xD533a949740bb3306d119CC777fa900bA034cd52\n",
      "            minter: \t0xd061D61a4d941c39E5453435B6345Dc261C2fcE0\n",
      "            admin: \t0x40907540d8a6C65c637785e8f8B742ae6b0b9968\n",
      "        NO ABI AVAILIBLE: \t0xc4AD0Ef33A0A4ddA3461c479ccb6c36d1e4B7Be4\n",
      "        future_smart_wallet_checker: \t0xca719728Ef172d0961768581fdF35CB116e0B7a4\n",
      "            checker: \t0x0000000000000000000000000000000000000000\n",
      "            dao: \t0x40907540d8a6C65c637785e8f8B742ae6b0b9968\n",
      "            future_checker: \t0x0000000000000000000000000000000000000000\n",
      "        smart_wallet_checker: \t0xca719728Ef172d0961768581fdF35CB116e0B7a4\n",
      "            checker: \t0x0000000000000000000000000000000000000000\n",
      "            dao: \t0x40907540d8a6C65c637785e8f8B742ae6b0b9968\n",
      "            future_checker: \t0x0000000000000000000000000000000000000000\n",
      "        admin: \t0x40907540d8a6C65c637785e8f8B742ae6b0b9968\n",
      "            implementation: \t0x3A93C17FC82CC33420d1809dDA9Fb715cc89dd37\n",
      "            kernel: \t0xad06868167BC5Ac5cFcbEf2CAFa82bc76961D72d\n",
      "        future_admin: \t0x40907540d8a6C65c637785e8f8B742ae6b0b9968\n",
      "            implementation: \t0x3A93C17FC82CC33420d1809dDA9Fb715cc89dd37\n",
      "            kernel: \t0xad06868167BC5Ac5cFcbEf2CAFa82bc76961D72d\n"
     ]
    }
   ],
   "source": [
    "def print_tree(node, level=0):\n",
    "    print('    ' * level + node.name + \": \\t\" + node.address)\n",
    "    for child in node.children:\n",
    "        print_tree(child, level+1)\n",
    "\n",
    "print_tree(root)"
   ]
  },
  {
   "cell_type": "code",
   "execution_count": null,
   "id": "8c37daa2-9a93-4ad5-bb47-1cadcebb90a3",
   "metadata": {},
   "outputs": [],
   "source": []
  }
 ],
 "metadata": {
  "kernelspec": {
   "display_name": "Python 3 (ipykernel)",
   "language": "python",
   "name": "python3"
  },
  "language_info": {
   "codemirror_mode": {
    "name": "ipython",
    "version": 3
   },
   "file_extension": ".py",
   "mimetype": "text/x-python",
   "name": "python",
   "nbconvert_exporter": "python",
   "pygments_lexer": "ipython3",
   "version": "3.10.7"
  }
 },
 "nbformat": 4,
 "nbformat_minor": 5
}
