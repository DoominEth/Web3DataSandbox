{
 "cells": [
  {
   "cell_type": "code",
   "execution_count": 1,
   "id": "f0cb6722-8f58-4fdc-9ba1-0ba405bd228e",
   "metadata": {},
   "outputs": [],
   "source": [
    "#Begining\n",
    "import pandas as pd\n",
    "import numpy as np\n",
    "import matplotlib\n",
    "import matplotlib.pyplot as plt\n",
    "import matplotlib.dates as mdates\n",
    "from matplotlib import cm\n",
    "import os\n",
    "%matplotlib inline\n",
    "##Get Enviroment\n",
    "from os.path import join, dirname\n",
    "from dotenv import load_dotenv\n",
    "dotenv_path = join(dirname(''), '.env')\n",
    "load_dotenv(dotenv_path)\n",
    "import datetime \n",
    "import requests\n",
    "from pandas.errors import ParserError\n",
    "from dateutil.parser import parse\n",
    "\n",
    "from web3 import Web3, EthereumTesterProvider\n",
    "from duneAPI import Dune_API\n",
    "from web3Contract import web3Contract\n",
    "from snapshotAPI import snapshotAPI\n",
    "\n",
    "from etherscan import Etherscan\n",
    "\n",
    "import json\n",
    "import math\n",
    "from duneanalytics import DuneAnalytics"
   ]
  },
  {
   "cell_type": "markdown",
   "id": "9d268760-15ad-4501-9da2-ce376357edd9",
   "metadata": {},
   "source": [
    "### Your Credentials"
   ]
  },
  {
   "cell_type": "markdown",
   "id": "0e75d1df-01f7-41f8-b7ff-2d2012aded59",
   "metadata": {},
   "source": [
    "The following variables are called from a .env file inside the root of the project folder. (You will need to create this file.)\n",
    "You will need :\n",
    "- A Dune Account (https://www.dune.com)\n",
    "    - Login\n",
    "    - Email\n",
    "- An infura Account (https://www.infura.io/)\n",
    "    - Endpoint\n",
    "    - API Key\n",
    "- An Etherscan Account (https://etherscan.io/)\n",
    "    - API Key\n",
    "    "
   ]
  },
  {
   "cell_type": "code",
   "execution_count": 2,
   "id": "809f4d33-78e1-46cb-a321-96bfec47e4e1",
   "metadata": {},
   "outputs": [],
   "source": [
    "DUNE_LOGIN = os.environ.get(\"DUNE_LOGIN\")\n",
    "DUNE_EMAIL = os.environ.get(\"DUNE_EMAIL\")\n",
    "INFURA_API = os.environ.get(\"INFURA_API\")\n",
    "INFURA_ENDPOINT = os.environ.get(\"INFURA_ENDPOINT\")\n",
    "ETHERSCAN_API = os.environ.get(\"ETHERSCAN_API\")"
   ]
  },
  {
   "cell_type": "markdown",
   "id": "0624811c-2d39-439d-bb06-9470854f98a3",
   "metadata": {},
   "source": [
    "### Setup of Dune "
   ]
  },
  {
   "cell_type": "markdown",
   "id": "83462b00-ea17-4966-941c-b68c888e5b1a",
   "metadata": {},
   "source": [
    "This instantiates the Dune class, simply copy the ID associated with your dune Query and pass it to the 'Create_DF' function to turn your Query into a data Frame i.e https://dune.com/queries/1889812"
   ]
  },
  {
   "cell_type": "code",
   "execution_count": 3,
   "id": "4d4f05b7-a8c0-4a32-b7eb-bbbae0523d0c",
   "metadata": {},
   "outputs": [],
   "source": [
    "dune = Dune_API( DUNE_EMAIL,DUNE_LOGIN)\n",
    "#randData = dune.create_DF(1889812)"
   ]
  },
  {
   "cell_type": "markdown",
   "id": "deebc70f-18b1-47c0-af83-33ec3075f2bd",
   "metadata": {},
   "source": [
    "### Setup Web3"
   ]
  },
  {
   "cell_type": "markdown",
   "id": "13b20d55-c875-4cd3-9b54-ef99dfe78fe4",
   "metadata": {},
   "source": [
    "The web3 library will help us connect to the blockchain to pull live data from smart contracts. "
   ]
  },
  {
   "cell_type": "code",
   "execution_count": 4,
   "id": "07e4875c-93f8-4076-905d-4f63a20bd556",
   "metadata": {},
   "outputs": [],
   "source": [
    "web3 =  Web3(Web3.HTTPProvider(INFURA_ENDPOINT))"
   ]
  },
  {
   "cell_type": "markdown",
   "id": "6ffed60e-049b-4ff0-b5f7-74d86810b207",
   "metadata": {},
   "source": [
    "### Setup Etherscan "
   ]
  },
  {
   "cell_type": "markdown",
   "id": "06148974-81a5-4d53-803f-aab580c24767",
   "metadata": {},
   "source": [
    "The Etherscan API will help with creating instances of the web3 smart contracts as we can get the ABI code from Etherscan directly."
   ]
  },
  {
   "cell_type": "code",
   "execution_count": 5,
   "id": "a188487b-4062-4968-8dce-66ecf62e4ccd",
   "metadata": {},
   "outputs": [],
   "source": [
    "etherscan = Etherscan(ETHERSCAN_API)"
   ]
  },
  {
   "cell_type": "code",
   "execution_count": 6,
   "id": "fb0fdfe6-17d2-4881-9a82-0346b1cd8cd3",
   "metadata": {},
   "outputs": [],
   "source": [
    "#Etherscan.get_contract_source(\"0xBB9bc244D798123fDe783fCc1C72d3Bb8C189413\")"
   ]
  },
  {
   "cell_type": "markdown",
   "id": "af24f6f9-afdc-426c-aeea-0f439692dd36",
   "metadata": {},
   "source": [
    "### Smart Contract Composition"
   ]
  },
  {
   "cell_type": "code",
   "execution_count": 7,
   "id": "36e0f567-a15c-4ded-9795-387d2be09c60",
   "metadata": {},
   "outputs": [],
   "source": [
    "class Node:\n",
    "    def __init__(self, name, value, address, children=[]):\n",
    "        self.name = name\n",
    "        self.value = value\n",
    "        self.children = children\n",
    "        self.searched = False\n",
    "        self.address = Web3.toChecksumAddress(address)"
   ]
  },
  {
   "cell_type": "code",
   "execution_count": 8,
   "id": "ecee5754-d162-4370-a539-b529fbe962c3",
   "metadata": {},
   "outputs": [],
   "source": [
    "def depth_first_search(node, depth, current_depth=0, nodeIterator=0):\n",
    "    if current_depth >= depth: #Escape after depth reached or exceeded\n",
    "        return\n",
    "    if node.searched == True:\n",
    "        return\n",
    "    \n",
    "    availibleABI = True\n",
    "    \n",
    "    #Handler for non verified smart contracts on etherscan\n",
    "    try:\n",
    "        contractABI = etherscan.get_contract_abi(node.address) #Use Etherscan API to get the contracts ABI\n",
    "    except:\n",
    "        availibleABI = False #unavailible ABI (contract code not verified)\n",
    "    \n",
    "    if availibleABI: #If contract's ABI is verified\n",
    "        contractInstance = web3.eth.contract(address=node.address, abi=contractABI) #Use web3 Library to create an instantiation of the contract\n",
    "        contractABI = json.loads(contractABI) #convert ABI to json format\n",
    "\n",
    "        for i in range(len(contractABI)): #Examine all functions/methods/variables in the ABI\n",
    "            try:\n",
    "                if contractABI[i]['outputs'][0]['type'] == 'address': #Searching exclusively for addresses on the contract\n",
    "                    if len(contractABI[i]['inputs']) == 0:  #Check function call does not require input\n",
    "                        childAddress = eval(\"contractInstance.\"+\"functions.\"+contractABI[i]['name']+\"()\"+\".call()\") #RPC call to the contract, return the 20byte address\n",
    "                        child = Node(contractABI[i]['name'], nodeIterator, childAddress, []) #create node\n",
    "                        node.children.append(child) #Append child node\n",
    "                        nodeIterator += 1 \n",
    "                        print(f'Searching node...')\n",
    "                    elif len(contractABI[i]['inputs']) == 1 and contractABI[i]['inputs'][0]['type'] == 'uint256': #This is an array of addresses:\n",
    "                        print('Searching Array Node...')\n",
    "                        try: \n",
    "                            for j in range(0,10):\n",
    "                                print(j)\n",
    "                                childAddress = eval(\"contractInstance.\"+\"functions.\"+contractABI[i]['name']+\"(\"+str(j)+ \")\"+\".call()\") #RPC call to the contract, return the 20byte address\n",
    "                                child = Node(contractABI[i]['name'], nodeIterator, childAddress, []) #create node\n",
    "                                node.children.append(child) #Append child node\n",
    "                                nodeIterator += 1 \n",
    "                                print(f'Searching node...') #NOTE: Might need to put a check in for 0x0000... etc address.\n",
    "                        except:\n",
    "                            break\n",
    "                    else:\n",
    "                        pass\n",
    "            except:\n",
    "                pass\n",
    "\n",
    "        for child in node.children:\n",
    "            child.name\n",
    "            depth_first_search(child, depth, current_depth+1, nodeIterator)\n",
    "\n",
    "        node.searched = True\n",
    "    else: \n",
    "        print('Warning: ABI Not found for this contract')\n",
    "        node.name = 'NO ABI AVAILIBLE'\n",
    "        node.searched = True\n",
    "        pass"
   ]
  },
  {
   "cell_type": "code",
   "execution_count": 9,
   "id": "0ea63137-29c2-435d-b675-817e04607f1f",
   "metadata": {},
   "outputs": [],
   "source": [
    "root = Node(\"root\", 0, '0x7ca5b0a2910B33e9759DC7dDB0413949071D7575')"
   ]
  },
  {
   "cell_type": "code",
   "execution_count": 10,
   "id": "5a7ed65f-a2bd-4a3c-bc2f-09bb04f35677",
   "metadata": {},
   "outputs": [
    {
     "data": {
      "text/plain": [
       "[]"
      ]
     },
     "execution_count": 10,
     "metadata": {},
     "output_type": "execute_result"
    }
   ],
   "source": [
    "root.children"
   ]
  },
  {
   "cell_type": "code",
   "execution_count": 11,
   "id": "1d44fb37-f6e1-40e5-a7d1-5401b85febfa",
   "metadata": {},
   "outputs": [
    {
     "name": "stdout",
     "output_type": "stream",
     "text": [
      "Searching node...\n",
      "Searching node...\n",
      "Searching node...\n",
      "Searching node...\n",
      "Searching node...\n",
      "Searching node...\n",
      "Searching node...\n",
      "Searching node...\n",
      "Searching node...\n",
      "Searching node...\n",
      "Searching node...\n",
      "Searching node...\n",
      "Searching node...\n",
      "Searching Array Node...\n",
      "0\n",
      "Searching node...\n",
      "1\n",
      "Searching node...\n",
      "2\n",
      "Searching node...\n",
      "3\n",
      "Searching node...\n",
      "4\n",
      "Searching node...\n",
      "5\n",
      "Searching node...\n",
      "6\n",
      "Searching node...\n",
      "7\n",
      "Searching node...\n",
      "8\n",
      "Searching node...\n",
      "9\n",
      "Searching node...\n",
      "Searching node...\n",
      "Searching node...\n",
      "Searching node...\n",
      "Searching node...\n",
      "Searching node...\n",
      "Searching node...\n"
     ]
    }
   ],
   "source": [
    "depth_first_search(root, 2, 0)"
   ]
  },
  {
   "cell_type": "code",
   "execution_count": 12,
   "id": "e5c4ce4c-ac0c-40b8-9279-1bbe2ec881eb",
   "metadata": {},
   "outputs": [
    {
     "name": "stdout",
     "output_type": "stream",
     "text": [
      "root: \t0x7ca5b0a2910B33e9759DC7dDB0413949071D7575\n",
      "    minter: \t0xd061D61a4d941c39E5453435B6345Dc261C2fcE0\n",
      "        token: \t0xD533a949740bb3306d119CC777fa900bA034cd52\n",
      "        controller: \t0x2F50D538606Fa9EDD2B11E2446BEb18C9D5846bB\n",
      "    crv_token: \t0xD533a949740bb3306d119CC777fa900bA034cd52\n",
      "        minter: \t0xd061D61a4d941c39E5453435B6345Dc261C2fcE0\n",
      "        admin: \t0x40907540d8a6C65c637785e8f8B742ae6b0b9968\n",
      "    lp_token: \t0x845838DF265Dcd2c412A1Dc9e959c7d08537f8a2\n",
      "    controller: \t0x2F50D538606Fa9EDD2B11E2446BEb18C9D5846bB\n",
      "        admin: \t0x40907540d8a6C65c637785e8f8B742ae6b0b9968\n",
      "        future_admin: \t0x40907540d8a6C65c637785e8f8B742ae6b0b9968\n",
      "        token: \t0xD533a949740bb3306d119CC777fa900bA034cd52\n",
      "        voting_escrow: \t0x5f3b5DfEb7B28CDbD7FAba78963EE202a494e2A2\n",
      "        gauges: \t0x7ca5b0a2910B33e9759DC7dDB0413949071D7575\n",
      "        gauges: \t0xBC89cd85491d81C6AD2954E6d0362Ee29fCa8F53\n",
      "        gauges: \t0xFA712EE4788C042e2B7BB55E6cb8ec569C4530c1\n",
      "        gauges: \t0x69Fb7c45726cfE2baDeE8317005d3F94bE838840\n",
      "        gauges: \t0x64E3C23bfc40722d3B649844055F1D51c1ac041d\n",
      "        gauges: \t0xB1F2cdeC61db658F091671F5f199635aEF202CAC\n",
      "        gauges: \t0xA90996896660DEcC6E997655E065b23788857849\n",
      "        gauges: \t0x705350c4BcD35c9441419DdD5d2f097d7a55410F\n",
      "        gauges: \t0x4c18E409Dc8619bFb6a1cB56D114C3f592E0aE79\n",
      "        gauges: \t0xbFcF63294aD7105dEa65aA58F8AE5BE2D9d0952A\n",
      "    voting_escrow: \t0x5f3b5DfEb7B28CDbD7FAba78963EE202a494e2A2\n",
      "        token: \t0xD533a949740bb3306d119CC777fa900bA034cd52\n",
      "        controller: \t0xc4AD0Ef33A0A4ddA3461c479ccb6c36d1e4B7Be4\n",
      "        future_smart_wallet_checker: \t0xca719728Ef172d0961768581fdF35CB116e0B7a4\n",
      "        smart_wallet_checker: \t0xca719728Ef172d0961768581fdF35CB116e0B7a4\n",
      "        admin: \t0x40907540d8a6C65c637785e8f8B742ae6b0b9968\n",
      "        future_admin: \t0x40907540d8a6C65c637785e8f8B742ae6b0b9968\n"
     ]
    }
   ],
   "source": [
    "def print_tree(node, level=0):\n",
    "    print('    ' * level + node.name + \": \\t\" + node.address)\n",
    "    for child in node.children:\n",
    "        print_tree(child, level+1)\n",
    "\n",
    "print_tree(root)"
   ]
  },
  {
   "cell_type": "markdown",
   "id": "cfc6021e-dfd0-45e1-85a4-109407ba57df",
   "metadata": {},
   "source": [
    "### Pool / Gauge Registry "
   ]
  },
  {
   "cell_type": "markdown",
   "id": "7c8bb3f5-09dc-43b5-9332-662cbc2fa621",
   "metadata": {},
   "source": [
    "The curve Registry holds the all of the relevant curve contracts"
   ]
  },
  {
   "cell_type": "code",
   "execution_count": null,
   "id": "e9f7dfe7-341b-461a-8b3c-fc92a40e5460",
   "metadata": {},
   "outputs": [],
   "source": [
    "#potential correct address 0xa5d0918610b1183Db6c8299243b977B2eF920cE7 for determining Gauges off pools.\n"
   ]
  },
  {
   "cell_type": "code",
   "execution_count": 44,
   "id": "e56781b0-ac0c-4a3a-8f5b-03e6e1f45bb4",
   "metadata": {},
   "outputs": [],
   "source": [
    "#Contract set up Registry\n",
    "reg = Web3.toChecksumAddress('0x90E00ACe148ca3b23Ac1bC8C240C2a7Dd9c2d7f5')\n",
    "regContractABI = etherscan.get_contract_abi(reg) \n",
    "regContractInstance = web3.eth.contract(address=reg, abi=regContractABI)\n",
    "\n",
    "#Pool info Contract\n",
    "poolInfo = Web3.toChecksumAddress('0xe64608E223433E8a03a1DaaeFD8Cb638C14B552C')\n",
    "poolInfoABI = etherscan.get_contract_abi(poolInfo)\n",
    "poolInfoContractInstance =  web3.eth.contract(address=poolInfo, abi=poolInfoABI)"
   ]
  },
  {
   "cell_type": "code",
   "execution_count": 28,
   "id": "319cd30a-5cea-4682-ad14-8055c6f99f19",
   "metadata": {},
   "outputs": [
    {
     "data": {
      "text/plain": [
       "'0xbEbc44782C7dB0a1A60Cb6fe97d0b483032FF1C7'"
      ]
     },
     "execution_count": 28,
     "metadata": {},
     "output_type": "execute_result"
    }
   ],
   "source": [
    "regContractInstance.functions.pool_list(0).call() "
   ]
  },
  {
   "cell_type": "code",
   "execution_count": 34,
   "id": "c0db399a-4fe7-444b-840d-902c86d0d20e",
   "metadata": {},
   "outputs": [
    {
     "data": {
      "text/plain": [
       "[['0xbFcF63294aD7105dEa65aA58F8AE5BE2D9d0952A',\n",
       "  '0x0000000000000000000000000000000000000000',\n",
       "  '0x0000000000000000000000000000000000000000',\n",
       "  '0x0000000000000000000000000000000000000000',\n",
       "  '0x0000000000000000000000000000000000000000',\n",
       "  '0x0000000000000000000000000000000000000000',\n",
       "  '0x0000000000000000000000000000000000000000',\n",
       "  '0x0000000000000000000000000000000000000000',\n",
       "  '0x0000000000000000000000000000000000000000',\n",
       "  '0x0000000000000000000000000000000000000000'],\n",
       " [0, 0, 0, 0, 0, 0, 0, 0, 0, 0]]"
      ]
     },
     "execution_count": 34,
     "metadata": {},
     "output_type": "execute_result"
    }
   ],
   "source": [
    "regContractInstance.functions.get_gauges('0xbEbc44782C7dB0a1A60Cb6fe97d0b483032FF1C7').call()"
   ]
  },
  {
   "cell_type": "code",
   "execution_count": 42,
   "id": "14655614-8535-4c43-9ece-e0be902b006e",
   "metadata": {},
   "outputs": [
    {
     "data": {
      "text/plain": [
       "[<Function find_pool_for_coins(address,address)>,\n",
       " <Function find_pool_for_coins(address,address,uint256)>,\n",
       " <Function get_n_coins(address)>,\n",
       " <Function get_coins(address)>,\n",
       " <Function get_underlying_coins(address)>,\n",
       " <Function get_decimals(address)>,\n",
       " <Function get_underlying_decimals(address)>,\n",
       " <Function get_rates(address)>,\n",
       " <Function get_gauges(address)>,\n",
       " <Function get_balances(address)>,\n",
       " <Function get_underlying_balances(address)>,\n",
       " <Function get_virtual_price_from_lp_token(address)>,\n",
       " <Function get_A(address)>,\n",
       " <Function get_parameters(address)>,\n",
       " <Function get_fees(address)>,\n",
       " <Function get_admin_balances(address)>,\n",
       " <Function get_coin_indices(address,address,address)>,\n",
       " <Function estimate_gas_used(address,address,address)>,\n",
       " <Function is_meta(address)>,\n",
       " <Function get_pool_name(address)>,\n",
       " <Function get_coin_swap_count(address)>,\n",
       " <Function get_coin_swap_complement(address,uint256)>,\n",
       " <Function get_pool_asset_type(address)>,\n",
       " <Function add_pool(address,uint256,address,bytes32,uint256,uint256,bool,bool,string)>,\n",
       " <Function add_pool_without_underlying(address,uint256,address,bytes32,uint256,uint256,bool,bool,string)>,\n",
       " <Function add_metapool(address,uint256,address,uint256,string)>,\n",
       " <Function add_metapool(address,uint256,address,uint256,string,address)>,\n",
       " <Function remove_pool(address)>,\n",
       " <Function set_pool_gas_estimates(address[5],uint256[2][5])>,\n",
       " <Function set_coin_gas_estimates(address[10],uint256[10])>,\n",
       " <Function set_gas_estimate_contract(address,address)>,\n",
       " <Function set_liquidity_gauges(address,address[10])>,\n",
       " <Function set_pool_asset_type(address,uint256)>,\n",
       " <Function batch_set_pool_asset_type(address[32],uint256[32])>,\n",
       " <Function address_provider()>,\n",
       " <Function gauge_controller()>,\n",
       " <Function pool_list(uint256)>,\n",
       " <Function pool_count()>,\n",
       " <Function coin_count()>,\n",
       " <Function get_coin(uint256)>,\n",
       " <Function get_pool_from_lp_token(address)>,\n",
       " <Function get_lp_token(address)>,\n",
       " <Function last_updated()>]"
      ]
     },
     "execution_count": 42,
     "metadata": {},
     "output_type": "execute_result"
    }
   ],
   "source": [
    "regContractInstance.all_functions()  #).call() "
   ]
  },
  {
   "cell_type": "code",
   "execution_count": 57,
   "id": "d99f4937-e294-4fb8-9f2a-2bae0727e1fb",
   "metadata": {},
   "outputs": [
    {
     "data": {
      "text/plain": [
       "[[206055614010362058488339529,\n",
       "  226599499545138,\n",
       "  135277678244032,\n",
       "  0,\n",
       "  0,\n",
       "  0,\n",
       "  0,\n",
       "  0],\n",
       " [206055614010362058488339529,\n",
       "  226599499545138,\n",
       "  135277678244032,\n",
       "  0,\n",
       "  0,\n",
       "  0,\n",
       "  0,\n",
       "  0],\n",
       " [18, 6, 6, 0, 0, 0, 0, 0],\n",
       " [18, 6, 6, 0, 0, 0, 0, 0],\n",
       " [1000000000000000000,\n",
       "  1000000000000000000,\n",
       "  1000000000000000000,\n",
       "  0,\n",
       "  0,\n",
       "  0,\n",
       "  0,\n",
       "  0],\n",
       " '0x6c3F90f043a72FA612cbac8115EE7e52BDe6E490',\n",
       " (2000,\n",
       "  2000,\n",
       "  1000000,\n",
       "  5000000000,\n",
       "  1000000,\n",
       "  5000000000,\n",
       "  '0xeCb456EA5365865EbAb8a2661B0c503410e9B347',\n",
       "  0,\n",
       "  0,\n",
       "  0)]"
      ]
     },
     "execution_count": 57,
     "metadata": {},
     "output_type": "execute_result"
    }
   ],
   "source": [
    "test = pd.DataFrame()\n",
    "test.loc[0,'poolAddress'] = regContractInstance.functions.pool_list(0).call() \n",
    "poolInfoContractInstance.functions.get_pool_info(test.loc[0,'poolAddress']).call()"
   ]
  },
  {
   "cell_type": "code",
   "execution_count": 62,
   "id": "3c08e834-ee27-4f0b-9449-c362c894794c",
   "metadata": {},
   "outputs": [
    {
     "data": {
      "text/plain": [
       "[<Function find_pool_for_coins(address,address)>,\n",
       " <Function find_pool_for_coins(address,address,uint256)>,\n",
       " <Function get_n_coins(address)>,\n",
       " <Function get_coins(address)>,\n",
       " <Function get_underlying_coins(address)>,\n",
       " <Function get_decimals(address)>,\n",
       " <Function get_underlying_decimals(address)>,\n",
       " <Function get_rates(address)>,\n",
       " <Function get_gauges(address)>,\n",
       " <Function get_balances(address)>,\n",
       " <Function get_underlying_balances(address)>,\n",
       " <Function get_virtual_price_from_lp_token(address)>,\n",
       " <Function get_A(address)>,\n",
       " <Function get_parameters(address)>,\n",
       " <Function get_fees(address)>,\n",
       " <Function get_admin_balances(address)>,\n",
       " <Function get_coin_indices(address,address,address)>,\n",
       " <Function estimate_gas_used(address,address,address)>,\n",
       " <Function is_meta(address)>,\n",
       " <Function get_pool_name(address)>,\n",
       " <Function get_coin_swap_count(address)>,\n",
       " <Function get_coin_swap_complement(address,uint256)>,\n",
       " <Function get_pool_asset_type(address)>,\n",
       " <Function add_pool(address,uint256,address,bytes32,uint256,uint256,bool,bool,string)>,\n",
       " <Function add_pool_without_underlying(address,uint256,address,bytes32,uint256,uint256,bool,bool,string)>,\n",
       " <Function add_metapool(address,uint256,address,uint256,string)>,\n",
       " <Function add_metapool(address,uint256,address,uint256,string,address)>,\n",
       " <Function remove_pool(address)>,\n",
       " <Function set_pool_gas_estimates(address[5],uint256[2][5])>,\n",
       " <Function set_coin_gas_estimates(address[10],uint256[10])>,\n",
       " <Function set_gas_estimate_contract(address,address)>,\n",
       " <Function set_liquidity_gauges(address,address[10])>,\n",
       " <Function set_pool_asset_type(address,uint256)>,\n",
       " <Function batch_set_pool_asset_type(address[32],uint256[32])>,\n",
       " <Function address_provider()>,\n",
       " <Function gauge_controller()>,\n",
       " <Function pool_list(uint256)>,\n",
       " <Function pool_count()>,\n",
       " <Function coin_count()>,\n",
       " <Function get_coin(uint256)>,\n",
       " <Function get_pool_from_lp_token(address)>,\n",
       " <Function get_lp_token(address)>,\n",
       " <Function last_updated()>]"
      ]
     },
     "execution_count": 62,
     "metadata": {},
     "output_type": "execute_result"
    }
   ],
   "source": [
    "regContractInstance.all_functions()"
   ]
  },
  {
   "cell_type": "code",
   "execution_count": 70,
   "id": "db30f5e2-d7b9-49ac-a1af-dfdbeca6e336",
   "metadata": {},
   "outputs": [
    {
     "data": {
      "text/plain": [
       "'0xbFcF63294aD7105dEa65aA58F8AE5BE2D9d0952A'"
      ]
     },
     "execution_count": 70,
     "metadata": {},
     "output_type": "execute_result"
    }
   ],
   "source": [
    "regContractInstance.functions.get_gauges('0xbEbc44782C7dB0a1A60Cb6fe97d0b483032FF1C7').call()[0][0]"
   ]
  },
  {
   "cell_type": "code",
   "execution_count": 74,
   "id": "2767bf67-f12f-423a-b41f-bb3ed3289cb3",
   "metadata": {},
   "outputs": [],
   "source": [
    "def buildPoolGaugeAddresses():\n",
    "    poolGaugeDF = pd.DataFrame()\n",
    "    for i in range(0,50):\n",
    "            poolAddr = regContractInstance.functions.pool_list(i).call()\n",
    "            poolGaugeDF.loc[i,'poolAddress'] = poolAddr\n",
    "            \n",
    "            if(poolAddr =='0x0000000000000000000000000000000000000000'):\n",
    "                break\n",
    "            else:\n",
    "                poolGaugeDF.loc[i,'name'] = regContractInstance.functions.get_pool_name(poolAddr).call()\n",
    "                poolGaugeDF.loc[i,'gaugeAddress'] = regContractInstance.functions.get_gauges(poolAddr).call()[0][0] #NEED TO CHECK IF ANY POOLS HAVE MORE THAN ONE GAUGE (suspect this is incase a gauge needs to be retired) \n",
    "                poolGaugeDF.loc[i,'lpToken'] = regContractInstance.functions.get_lp_token(poolAddr).call()\n",
    "    return poolGaugeDF"
   ]
  },
  {
   "cell_type": "code",
   "execution_count": 75,
   "id": "3fb89547-3249-4a71-8636-0f191415caa8",
   "metadata": {},
   "outputs": [],
   "source": [
    "pgDF = buildPoolGaugeAddresses()"
   ]
  },
  {
   "cell_type": "code",
   "execution_count": 11,
   "id": "2c1e90f4-7f53-480b-bc5e-74bf774dc584",
   "metadata": {},
   "outputs": [],
   "source": [
    "#pgDF"
   ]
  },
  {
   "cell_type": "code",
   "execution_count": null,
   "id": "118eedc7-25f7-467d-8a51-d209ab51f4f8",
   "metadata": {},
   "outputs": [],
   "source": []
  },
  {
   "cell_type": "code",
   "execution_count": 44,
   "id": "0671b935-075f-4422-a3b5-d1ce0009f2b8",
   "metadata": {},
   "outputs": [],
   "source": [
    "def buildGaugeMappingFromGaugeController():\n",
    "    #mapping DF\n",
    "    gaugeMappingDF = pd.DataFrame()\n",
    "    \n",
    "    #Missing details counter\n",
    "    counter = 0\n",
    "    \n",
    "    #Gauge Controller Address\n",
    "    gaugeControllerAddress = Web3.toChecksumAddress('0x2F50D538606Fa9EDD2B11E2446BEb18C9D5846bB' )\n",
    "    gaugeControllerAddressABI = etherscan.get_contract_abi(gaugeControllerAddress) \n",
    "    gaugeControllerAddressContract = web3.eth.contract(address=gaugeControllerAddress, abi=gaugeControllerAddressABI)\n",
    "    \n",
    "    #Registry Address\n",
    "    regAddress = Web3.toChecksumAddress('0xF98B45FA17DE75FB1aD0e7aFD971b0ca00e379fC')\n",
    "    regAddressABI =  etherscan.get_contract_abi(regAddress)\n",
    "    regAddressContract = web3.eth.contract(address=regAddress, abi=regAddressABI)\n",
    "    \n",
    "    for i in range(gaugeControllerAddressContract.functions.n_gauges().call()):\n",
    "    #for i in range(2):\n",
    "        gaugeAddr = Web3.toChecksumAddress(gaugeControllerAddressContract.functions.gauges(i).call())\n",
    "        try:\n",
    "            gaugeAddr = Web3.toChecksumAddress(gaugeControllerAddressContract.functions.gauges(i).call())\n",
    "            gaugeMappingDF.loc[i, 'Gauge_Address'] = gaugeAddr\n",
    "\n",
    "            currentGaugeABI = etherscan.get_contract_abi(gaugeAddr) \n",
    "            currentGaugeContract = web3.eth.contract(address=gaugeAddr, abi=currentGaugeABI)\n",
    "\n",
    "            lpTokenAddr = currentGaugeContract.functions.lp_token().call()\n",
    "            gaugeMappingDF.loc[i, 'LP_Token'] = lpTokenAddr\n",
    "\n",
    "            pool = Web3.toChecksumAddress(regAddressContract.functions.get_pool_from_lp_token(lpTokenAddr).call())\n",
    "            gaugeMappingDF.loc[i, 'Pool'] = pool\n",
    "\n",
    "            gaugeMappingDF.loc[i, 'Name'] = regAddressContract.functions.get_pool_name(pool).call()\n",
    "            \n",
    "        except:\n",
    "            print(f'{counter}. missing information for: {gaugeAddr}')\n",
    "            counter += 1\n",
    "        \n",
    "    return gaugeMappingDF\n",
    "       "
   ]
  },
  {
   "cell_type": "code",
   "execution_count": 39,
   "id": "04a2e4f7-393e-402b-b086-4e5fce741543",
   "metadata": {},
   "outputs": [
    {
     "name": "stdout",
     "output_type": "stream",
     "text": [
      "missing information for0x18478F737d40ed7DEFe5a9d6F1560d84E283B74e\n",
      "missing information for0xd69ac8d9D25e99446171B5D0B3E4234dAd294890\n",
      "missing information for0x8101E6760130be2C8Ace79643AB73500571b7162\n",
      "missing information for0xC85b385C8587219b1085A264f0235225644a5dD9\n",
      "missing information for0x174baa6b56ffe479b604CC20f22D09AD74F1Ca49\n",
      "missing information for0xb9C05B8EE41FDCbd9956114B3aF15834FDEDCb54\n",
      "missing information for0xfE1A3dD8b169fB5BF0D5dbFe813d956F39fF6310\n",
      "missing information for0xC48f4653dd6a9509De44c92beb0604BEA3AEe714\n",
      "missing information for0x488E6ef919C2bB9de535C634a80afb0114DA8F62\n",
      "missing information for0xfDb129ea4b6f557b07BcDCedE54F665b7b6Bc281\n",
      "missing information for0x060e386eCfBacf42Aa72171Af9EFe17b3993fC4F\n",
      "missing information for0x6C09F6727113543Fd061a721da512B7eFCDD0267\n",
      "missing information for0xFf17560d746F85674FE7629cE986E949602EF948\n",
      "missing information for0x9044E12fB1732f88ed0c93cfa5E9bB9bD2990cE5\n",
      "missing information for0x9F86c5142369B1Ffd4223E5A2F2005FC66807894\n",
      "missing information for0x260e4fBb13DD91e187AE992c3435D0cf97172316\n",
      "missing information for0xB504b6EB06760019801a91B451d3f7BD9f027fC9\n",
      "missing information for0x75D05190f35567e79012c2F0a02330D3Ed8a1F74\n",
      "missing information for0xa05E565cA0a103FcD999c7A7b8de7Bd15D5f6505\n",
      "missing information for0xf2Cde8c47C20aCbffC598217Ad5FE6DB9E00b163\n",
      "missing information for0x56eda719d82aE45cBB87B7030D3FB485685Bea45\n",
      "missing information for0xAF78381216a8eCC7Ad5957f3cD12a431500E0B0D\n",
      "missing information for0x279f11F8E2825dbe0b00F6776376601AC948d868\n",
      "missing information for0xF2dDF89C04d702369Ab9eF8399Edb99a76e951Ce\n",
      "missing information for0x95069889DF0BCdf15bc3182c1A4D6B20631F3B46\n",
      "missing information for0xc1c5B8aAfE653592627B54B9527C7E98326e83Ff\n",
      "missing information for0x1c77fB5486545810679D53E325d5bCf6C6A45081\n",
      "missing information for0x9562c4D2E06aAf85efC5367Fb4544ECeB788465E\n",
      "missing information for0xbAF05d7aa4129CA14eC45cC9d4103a9aB9A9fF60\n",
      "missing information for0xfbb5b8f2f9b7a4d21ff44dC724C1Fb7b531A6612\n",
      "missing information for0xA6ff75281eACa4cD5fEEb333e8E15558208295e5\n",
      "missing information for0x1AEAA1b998307217D62E9eeFb6407B10598eF3b8\n",
      "missing information for0x18006c6A7955Bf6Db72DE34089B975f733601660\n",
      "missing information for0xd0698b2E41C42bcE42B51f977F962Fd127cF82eA\n",
      "missing information for0xc5aE4B5F86332e70f3205a8151Ee9eD9F71e0797\n",
      "missing information for0xdA690c2EA49a058a9966C69f46a05Bfc225939f4\n",
      "missing information for0x34eD182D0812D119c92907852D2B429f095A9b07\n",
      "missing information for0x82049b520cAc8b05E703bb35d1691B5005A92848\n",
      "missing information for0x15bB164F9827De760174d3d3dAD6816eF50dE13c\n",
      "missing information for0xF7b9c402c4D6c2eDbA04a7a515b53D11B1E9b2cc\n",
      "missing information for0xbC38bD19227F91424eD4132F630f51C9A42Fa338\n",
      "missing information for0x319E268f0A4C85D404734ee7958857F5891506d7\n",
      "missing information for0x20759F567BB3EcDB55c817c9a1d13076aB215EdC\n",
      "missing information for0xBb1B19495B8FE7C402427479B9aC14886cbbaaeE\n",
      "missing information for0x8D9649e50A0d1da8E939f800fB926cdE8f18B47D\n",
      "missing information for0x8b397084699Cc64E429F610F81Fac13bf061ef55\n",
      "missing information for0xCE5F24B7A95e9cBa7df4B54E911B4A3Dc8CDAf6f\n",
      "missing information for0xDB3fd1bfC67b5D4325cb31C04E0Cae52f1787FD6\n",
      "missing information for0x555766f3da968ecBefa690Ffd49A2Ac02f47aa5f\n",
      "missing information for0x6339eF8Df0C2d3d3E7eE697E241666a916B81587\n",
      "missing information for0x4620D46b4db7fB04a01A75fFed228Bc027C9A899\n",
      "missing information for0x00F7d467ef51E44f11f52a0c0Bef2E56C271b264\n",
      "missing information for0x1879075f1c055564CB968905aC404A5A01a1699A\n",
      "missing information for0x94A5E05D66834c6C6961E199D34dA576679fC187\n",
      "missing information for0xF4eA7617E7999710244e2eAbfC8730d35482EE76\n",
      "missing information for0xB721Cc32160Ab0da2614CC6aB16eD822Aeebc101\n",
      "missing information for0xD1426C391A7Cbe9DeCd302ac9c44e65C3505d1f0\n",
      "missing information for0xCB8883D1D8c560003489Df43B30612AAbB8013bb\n",
      "missing information for0x172a5AF37f69C69CC59E748D090a70615830A5Dd\n",
      "missing information for0x15F52286C0FF1d7A7dDbC9E300dd66628D46D4e6\n",
      "missing information for0x4B960396011A914B4ccCC3b33DFEE83A97A9D766\n",
      "missing information for0x95285Ea6fF14F80A2fD3989a6bAb993Bd6b5fA13\n",
      "missing information for0x40371aad2a24ed841316EF30938881440FD4426c\n",
      "missing information for0x0e2f214b8f5D0ccA011A8298bb907fb62f535160\n",
      "missing information for0x55f9Ba282c39793DB29C68F8f113fC97D23a6445\n",
      "missing information for0x18C45C10A0f41Bc3ed8d6324C687335179A40b28\n"
     ]
    }
   ],
   "source": [
    "test = buildGaugeMappingFromGaugeController()"
   ]
  },
  {
   "cell_type": "code",
   "execution_count": 40,
   "id": "c92c15de-ab77-4544-9fd1-ffdcd3e28433",
   "metadata": {},
   "outputs": [
    {
     "data": {
      "text/html": [
       "<div>\n",
       "<style scoped>\n",
       "    .dataframe tbody tr th:only-of-type {\n",
       "        vertical-align: middle;\n",
       "    }\n",
       "\n",
       "    .dataframe tbody tr th {\n",
       "        vertical-align: top;\n",
       "    }\n",
       "\n",
       "    .dataframe thead th {\n",
       "        text-align: right;\n",
       "    }\n",
       "</style>\n",
       "<table border=\"1\" class=\"dataframe\">\n",
       "  <thead>\n",
       "    <tr style=\"text-align: right;\">\n",
       "      <th></th>\n",
       "      <th>Gauge_Address</th>\n",
       "      <th>LP_Token</th>\n",
       "      <th>Pool</th>\n",
       "      <th>Name</th>\n",
       "    </tr>\n",
       "  </thead>\n",
       "  <tbody>\n",
       "    <tr>\n",
       "      <th>0</th>\n",
       "      <td>0x7ca5b0a2910B33e9759DC7dDB0413949071D7575</td>\n",
       "      <td>0x845838DF265Dcd2c412A1Dc9e959c7d08537f8a2</td>\n",
       "      <td>0xA2B47E3D5c44877cca798226B7B8118F9BFb7A56</td>\n",
       "      <td>compound</td>\n",
       "    </tr>\n",
       "    <tr>\n",
       "      <th>1</th>\n",
       "      <td>0xBC89cd85491d81C6AD2954E6d0362Ee29fCa8F53</td>\n",
       "      <td>0x9fC689CCaDa600B6DF723D9E47D84d76664a1F23</td>\n",
       "      <td>0x52EA46506B9CC5Ef470C5bf89f17Dc28bB35D85C</td>\n",
       "      <td>usdt</td>\n",
       "    </tr>\n",
       "    <tr>\n",
       "      <th>2</th>\n",
       "      <td>0xFA712EE4788C042e2B7BB55E6cb8ec569C4530c1</td>\n",
       "      <td>0xdF5e0e81Dff6FAF3A7e52BA697820c5e32D806A8</td>\n",
       "      <td>0x45F783CCE6B7FF23B2ab2D70e416cdb7D6055f51</td>\n",
       "      <td>y</td>\n",
       "    </tr>\n",
       "    <tr>\n",
       "      <th>3</th>\n",
       "      <td>0x69Fb7c45726cfE2baDeE8317005d3F94bE838840</td>\n",
       "      <td>0x3B3Ac5386837Dc563660FB6a0937DFAa5924333B</td>\n",
       "      <td>0x79a8C46DeA5aDa233ABaFFD40F3A0A2B1e5A4F27</td>\n",
       "      <td>busd</td>\n",
       "    </tr>\n",
       "    <tr>\n",
       "      <th>4</th>\n",
       "      <td>0x64E3C23bfc40722d3B649844055F1D51c1ac041d</td>\n",
       "      <td>0xD905e2eaeBe188fc92179b6350807D8bd91Db0D8</td>\n",
       "      <td>0x06364f10B501e868329afBc005b3492902d6C763</td>\n",
       "      <td>pax</td>\n",
       "    </tr>\n",
       "    <tr>\n",
       "      <th>...</th>\n",
       "      <td>...</td>\n",
       "      <td>...</td>\n",
       "      <td>...</td>\n",
       "      <td>...</td>\n",
       "    </tr>\n",
       "    <tr>\n",
       "      <th>206</th>\n",
       "      <td>0x0e2f214b8f5D0ccA011A8298bb907fb62f535160</td>\n",
       "      <td>NaN</td>\n",
       "      <td>NaN</td>\n",
       "      <td>NaN</td>\n",
       "    </tr>\n",
       "    <tr>\n",
       "      <th>207</th>\n",
       "      <td>0x0A13654e7846Fbbd6fBc9F409AA453739bBADb74</td>\n",
       "      <td>0x2863a328A0B7fC6040f11614FA0728587DB8e353</td>\n",
       "      <td>0x2863a328A0B7fC6040f11614FA0728587DB8e353</td>\n",
       "      <td>Curve.fi Factory USD Metapool: multiBTC+WBTC/sBTC</td>\n",
       "    </tr>\n",
       "    <tr>\n",
       "      <th>208</th>\n",
       "      <td>0x37Efc3f05D659B30A83cf0B07522C9d08513Ca9d</td>\n",
       "      <td>0x5Be6C45e2d074fAa20700C49aDA3E88a1cc0025d</td>\n",
       "      <td>0x0E9B5B092caD6F1c5E6bc7f89Ffe1abb5c95F1C2</td>\n",
       "      <td>Curve.fi Factory Crypto Pool: Curve GEAR/ETH</td>\n",
       "    </tr>\n",
       "    <tr>\n",
       "      <th>209</th>\n",
       "      <td>0x55f9Ba282c39793DB29C68F8f113fC97D23a6445</td>\n",
       "      <td>NaN</td>\n",
       "      <td>NaN</td>\n",
       "      <td>NaN</td>\n",
       "    </tr>\n",
       "    <tr>\n",
       "      <th>210</th>\n",
       "      <td>0x18C45C10A0f41Bc3ed8d6324C687335179A40b28</td>\n",
       "      <td>NaN</td>\n",
       "      <td>NaN</td>\n",
       "      <td>NaN</td>\n",
       "    </tr>\n",
       "  </tbody>\n",
       "</table>\n",
       "<p>211 rows × 4 columns</p>\n",
       "</div>"
      ],
      "text/plain": [
       "                                  Gauge_Address  \\\n",
       "0    0x7ca5b0a2910B33e9759DC7dDB0413949071D7575   \n",
       "1    0xBC89cd85491d81C6AD2954E6d0362Ee29fCa8F53   \n",
       "2    0xFA712EE4788C042e2B7BB55E6cb8ec569C4530c1   \n",
       "3    0x69Fb7c45726cfE2baDeE8317005d3F94bE838840   \n",
       "4    0x64E3C23bfc40722d3B649844055F1D51c1ac041d   \n",
       "..                                          ...   \n",
       "206  0x0e2f214b8f5D0ccA011A8298bb907fb62f535160   \n",
       "207  0x0A13654e7846Fbbd6fBc9F409AA453739bBADb74   \n",
       "208  0x37Efc3f05D659B30A83cf0B07522C9d08513Ca9d   \n",
       "209  0x55f9Ba282c39793DB29C68F8f113fC97D23a6445   \n",
       "210  0x18C45C10A0f41Bc3ed8d6324C687335179A40b28   \n",
       "\n",
       "                                       LP_Token  \\\n",
       "0    0x845838DF265Dcd2c412A1Dc9e959c7d08537f8a2   \n",
       "1    0x9fC689CCaDa600B6DF723D9E47D84d76664a1F23   \n",
       "2    0xdF5e0e81Dff6FAF3A7e52BA697820c5e32D806A8   \n",
       "3    0x3B3Ac5386837Dc563660FB6a0937DFAa5924333B   \n",
       "4    0xD905e2eaeBe188fc92179b6350807D8bd91Db0D8   \n",
       "..                                          ...   \n",
       "206                                         NaN   \n",
       "207  0x2863a328A0B7fC6040f11614FA0728587DB8e353   \n",
       "208  0x5Be6C45e2d074fAa20700C49aDA3E88a1cc0025d   \n",
       "209                                         NaN   \n",
       "210                                         NaN   \n",
       "\n",
       "                                           Pool  \\\n",
       "0    0xA2B47E3D5c44877cca798226B7B8118F9BFb7A56   \n",
       "1    0x52EA46506B9CC5Ef470C5bf89f17Dc28bB35D85C   \n",
       "2    0x45F783CCE6B7FF23B2ab2D70e416cdb7D6055f51   \n",
       "3    0x79a8C46DeA5aDa233ABaFFD40F3A0A2B1e5A4F27   \n",
       "4    0x06364f10B501e868329afBc005b3492902d6C763   \n",
       "..                                          ...   \n",
       "206                                         NaN   \n",
       "207  0x2863a328A0B7fC6040f11614FA0728587DB8e353   \n",
       "208  0x0E9B5B092caD6F1c5E6bc7f89Ffe1abb5c95F1C2   \n",
       "209                                         NaN   \n",
       "210                                         NaN   \n",
       "\n",
       "                                                  Name  \n",
       "0                                             compound  \n",
       "1                                                 usdt  \n",
       "2                                                    y  \n",
       "3                                                 busd  \n",
       "4                                                  pax  \n",
       "..                                                 ...  \n",
       "206                                                NaN  \n",
       "207  Curve.fi Factory USD Metapool: multiBTC+WBTC/sBTC  \n",
       "208       Curve.fi Factory Crypto Pool: Curve GEAR/ETH  \n",
       "209                                                NaN  \n",
       "210                                                NaN  \n",
       "\n",
       "[211 rows x 4 columns]"
      ]
     },
     "execution_count": 40,
     "metadata": {},
     "output_type": "execute_result"
    }
   ],
   "source": [
    "test"
   ]
  },
  {
   "cell_type": "code",
   "execution_count": 41,
   "id": "733f8b22-7e49-484b-b99a-5a63fceb8794",
   "metadata": {},
   "outputs": [],
   "source": [
    "test.to_excel(\"gaugePoolAddrMapping.xlsx\")"
   ]
  },
  {
   "cell_type": "code",
   "execution_count": null,
   "id": "72a19836-f8d7-4904-9041-ef3273c798e6",
   "metadata": {},
   "outputs": [],
   "source": []
  }
 ],
 "metadata": {
  "kernelspec": {
   "display_name": "Python 3 (ipykernel)",
   "language": "python",
   "name": "python3"
  },
  "language_info": {
   "codemirror_mode": {
    "name": "ipython",
    "version": 3
   },
   "file_extension": ".py",
   "mimetype": "text/x-python",
   "name": "python",
   "nbconvert_exporter": "python",
   "pygments_lexer": "ipython3",
   "version": "3.10.7"
  }
 },
 "nbformat": 4,
 "nbformat_minor": 5
}
