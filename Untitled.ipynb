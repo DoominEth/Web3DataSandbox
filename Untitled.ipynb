{
 "cells": [
  {
   "cell_type": "code",
   "execution_count": 1,
   "id": "f0cb6722-8f58-4fdc-9ba1-0ba405bd228e",
   "metadata": {},
   "outputs": [],
   "source": [
    "#Begining\n",
    "import pandas as pd\n",
    "import numpy as np\n",
    "import matplotlib\n",
    "import matplotlib.pyplot as plt\n",
    "import matplotlib.dates as mdates\n",
    "from matplotlib import cm\n",
    "import os\n",
    "%matplotlib inline\n",
    "##Get Enviroment\n",
    "from os.path import join, dirname\n",
    "from dotenv import load_dotenv\n",
    "dotenv_path = join(dirname(''), '.env')\n",
    "load_dotenv(dotenv_path)\n",
    "import datetime \n",
    "import requests\n",
    "from pandas.errors import ParserError\n",
    "from dateutil.parser import parse\n",
    "\n",
    "from web3 import Web3, EthereumTesterProvider\n",
    "from duneAPI import Dune_API\n",
    "from web3Contract import web3Contract\n",
    "from snapshotAPI import snapshotAPI\n",
    "\n",
    "from etherscan import Etherscan\n",
    "\n",
    "import json\n",
    "import math\n",
    "from duneanalytics import DuneAnalytics"
   ]
  },
  {
   "cell_type": "markdown",
   "id": "9d268760-15ad-4501-9da2-ce376357edd9",
   "metadata": {},
   "source": [
    "### Your Credentials"
   ]
  },
  {
   "cell_type": "markdown",
   "id": "0e75d1df-01f7-41f8-b7ff-2d2012aded59",
   "metadata": {},
   "source": [
    "The following variables are called from a .env file inside the root of the project folder. (You will need to create this file.)\n",
    "You will need :\n",
    "- A Dune Account (https://www.dune.com)\n",
    "    - Login\n",
    "    - Email\n",
    "- An infura Account (https://www.infura.io/)\n",
    "    - Endpoint\n",
    "    - API Key\n",
    "- An Etherscan Account (https://etherscan.io/)\n",
    "    - API Key\n",
    "    "
   ]
  },
  {
   "cell_type": "code",
   "execution_count": 2,
   "id": "809f4d33-78e1-46cb-a321-96bfec47e4e1",
   "metadata": {},
   "outputs": [],
   "source": [
    "DUNE_LOGIN = os.environ.get(\"DUNE_LOGIN\")\n",
    "DUNE_EMAIL = os.environ.get(\"DUNE_EMAIL\")\n",
    "INFURA_API = os.environ.get(\"INFURA_API\")\n",
    "INFURA_ENDPOINT = os.environ.get(\"INFURA_ENDPOINT\")\n",
    "ETHERSCAN_API = os.environ.get(\"ETHERSCAN_API\")"
   ]
  },
  {
   "cell_type": "markdown",
   "id": "0624811c-2d39-439d-bb06-9470854f98a3",
   "metadata": {},
   "source": [
    "### Setup of Dune "
   ]
  },
  {
   "cell_type": "markdown",
   "id": "83462b00-ea17-4966-941c-b68c888e5b1a",
   "metadata": {},
   "source": [
    "This instantiates the Dune class, simply copy the ID associated with your dune Query and pass it to the 'Create_DF' function to turn your Query into a data Frame i.e https://dune.com/queries/1889812"
   ]
  },
  {
   "cell_type": "code",
   "execution_count": 3,
   "id": "4d4f05b7-a8c0-4a32-b7eb-bbbae0523d0c",
   "metadata": {},
   "outputs": [],
   "source": [
    "dune = Dune_API( DUNE_EMAIL,DUNE_LOGIN)\n",
    "#randData = dune.create_DF(1889812)"
   ]
  },
  {
   "cell_type": "markdown",
   "id": "deebc70f-18b1-47c0-af83-33ec3075f2bd",
   "metadata": {},
   "source": [
    "### Setup Web3"
   ]
  },
  {
   "cell_type": "markdown",
   "id": "13b20d55-c875-4cd3-9b54-ef99dfe78fe4",
   "metadata": {},
   "source": [
    "The web3 library will help us connect to the blockchain to pull live data from smart contracts. "
   ]
  },
  {
   "cell_type": "code",
   "execution_count": 4,
   "id": "07e4875c-93f8-4076-905d-4f63a20bd556",
   "metadata": {},
   "outputs": [],
   "source": [
    "web3 =  Web3(Web3.HTTPProvider(INFURA_ENDPOINT))"
   ]
  },
  {
   "cell_type": "markdown",
   "id": "6ffed60e-049b-4ff0-b5f7-74d86810b207",
   "metadata": {},
   "source": [
    "### Setup Etherscan "
   ]
  },
  {
   "cell_type": "markdown",
   "id": "06148974-81a5-4d53-803f-aab580c24767",
   "metadata": {},
   "source": [
    "The Etherscan API will help with creating instances of the web3 smart contracts as we can get the ABI code from Etherscan directly."
   ]
  },
  {
   "cell_type": "code",
   "execution_count": 5,
   "id": "a188487b-4062-4968-8dce-66ecf62e4ccd",
   "metadata": {},
   "outputs": [],
   "source": [
    "etherscan = Etherscan(ETHERSCAN_API)"
   ]
  },
  {
   "cell_type": "code",
   "execution_count": 6,
   "id": "fb0fdfe6-17d2-4881-9a82-0346b1cd8cd3",
   "metadata": {},
   "outputs": [],
   "source": [
    "#Etherscan.get_contract_source(\"0xBB9bc244D798123fDe783fCc1C72d3Bb8C189413\")"
   ]
  },
  {
   "cell_type": "markdown",
   "id": "45b428bf-21c6-4641-98c7-f80acfc4aef7",
   "metadata": {},
   "source": [
    "### Set up Snapshot "
   ]
  },
  {
   "cell_type": "code",
   "execution_count": 7,
   "id": "e642cee9-17b8-48af-9ae4-150cb8ee0957",
   "metadata": {},
   "outputs": [],
   "source": [
    "snapshot = snapshotAPI()"
   ]
  },
  {
   "cell_type": "code",
   "execution_count": 8,
   "id": "a5a82641-d1e0-4fde-9bb3-81c230dec94e",
   "metadata": {},
   "outputs": [],
   "source": [
    "data = snapshot.getAllProposals(\"cvx.eth\")\n",
    "dataDF = pd.DataFrame(data)"
   ]
  },
  {
   "cell_type": "markdown",
   "id": "af24f6f9-afdc-426c-aeea-0f439692dd36",
   "metadata": {},
   "source": [
    "### Smart Contract Composition"
   ]
  },
  {
   "cell_type": "code",
   "execution_count": 9,
   "id": "36e0f567-a15c-4ded-9795-387d2be09c60",
   "metadata": {},
   "outputs": [],
   "source": [
    "class Node:\n",
    "    def __init__(self, name, value, address, children=[]):\n",
    "        self.name = name\n",
    "        self.value = value\n",
    "        self.children = children\n",
    "        self.searched = False\n",
    "        self.address = Web3.toChecksumAddress(address)"
   ]
  },
  {
   "cell_type": "code",
   "execution_count": 10,
   "id": "ecee5754-d162-4370-a539-b529fbe962c3",
   "metadata": {},
   "outputs": [],
   "source": [
    "def depth_first_search(node, depth, current_depth=0, nodeIterator=0):\n",
    "    if current_depth >= depth: #Escape after depth reached or exceeded\n",
    "        return\n",
    "    if node.searched == True:\n",
    "        return\n",
    "    \n",
    "    availibleABI = True\n",
    "    \n",
    "    #Handler for non verified smart contracts on etherscan\n",
    "    try:\n",
    "        contractABI = etherscan.get_contract_abi(node.address) #Use Etherscan API to get the contracts ABI\n",
    "    except:\n",
    "        availibleABI = False #unavailible ABI (contract code not verified)\n",
    "    \n",
    "    if availibleABI: #If contract's ABI is verified\n",
    "        contractInstance = web3.eth.contract(address=node.address, abi=contractABI) #Use web3 Library to create an instantiation of the contract\n",
    "        contractABI = json.loads(contractABI) #convert ABI to json format\n",
    "\n",
    "        for i in range(len(contractABI)): #Examine all functions/methods/variables in the ABI\n",
    "            try:\n",
    "                if contractABI[i]['outputs'][0]['type'] == 'address': #Searching exclusively for addresses on the contract\n",
    "                    if len(contractABI[i]['inputs']) == 0:  #Check function call does not require input\n",
    "                        childAddress = eval(\"contractInstance.\"+\"functions.\"+contractABI[i]['name']+\"()\"+\".call()\") #RPC call to the contract, return the 20byte address\n",
    "                        child = Node(contractABI[i]['name'], nodeIterator, childAddress, []) #create node\n",
    "                        node.children.append(child) #Append child node\n",
    "                        nodeIterator += 1 \n",
    "                        print(f'Searching node...')\n",
    "                    elif len(contractABI[i]['inputs']) == 1 and contractABI[i]['inputs'][0]['type'] == 'uint256': #This is an array of addresses:\n",
    "                        print('Searching Array Node...')\n",
    "                        try: \n",
    "                            for j in range(0,10):\n",
    "                                print(j)\n",
    "                                childAddress = eval(\"contractInstance.\"+\"functions.\"+contractABI[i]['name']+\"(\"+str(j)+ \")\"+\".call()\") #RPC call to the contract, return the 20byte address\n",
    "                                child = Node(contractABI[i]['name'], nodeIterator, childAddress, []) #create node\n",
    "                                node.children.append(child) #Append child node\n",
    "                                nodeIterator += 1 \n",
    "                                print(f'Searching node...') #NOTE: Might need to put a check in for 0x0000... etc address.\n",
    "                        except:\n",
    "                            break\n",
    "                    else:\n",
    "                        pass\n",
    "            except:\n",
    "                pass\n",
    "\n",
    "        for child in node.children:\n",
    "            child.name\n",
    "            depth_first_search(child, depth, current_depth+1, nodeIterator)\n",
    "\n",
    "        node.searched = True\n",
    "    else: \n",
    "        print('Warning: ABI Not found for this contract')\n",
    "        node.name = 'NO ABI AVAILIBLE'\n",
    "        node.searched = True\n",
    "        pass"
   ]
  },
  {
   "cell_type": "code",
   "execution_count": 11,
   "id": "0ea63137-29c2-435d-b675-817e04607f1f",
   "metadata": {},
   "outputs": [],
   "source": [
    "root = Node(\"root\", 0, '0x7ca5b0a2910B33e9759DC7dDB0413949071D7575')"
   ]
  },
  {
   "cell_type": "code",
   "execution_count": 12,
   "id": "5a7ed65f-a2bd-4a3c-bc2f-09bb04f35677",
   "metadata": {},
   "outputs": [
    {
     "data": {
      "text/plain": [
       "[]"
      ]
     },
     "execution_count": 12,
     "metadata": {},
     "output_type": "execute_result"
    }
   ],
   "source": [
    "root.children"
   ]
  },
  {
   "cell_type": "code",
   "execution_count": 13,
   "id": "1d44fb37-f6e1-40e5-a7d1-5401b85febfa",
   "metadata": {},
   "outputs": [
    {
     "name": "stdout",
     "output_type": "stream",
     "text": [
      "Searching node...\n",
      "Searching node...\n",
      "Searching node...\n",
      "Searching node...\n",
      "Searching node...\n",
      "Searching node...\n",
      "Searching node...\n",
      "Searching node...\n",
      "Searching node...\n",
      "Searching node...\n",
      "Searching node...\n",
      "Searching node...\n",
      "Searching node...\n",
      "Searching Array Node...\n",
      "0\n",
      "Searching node...\n",
      "1\n",
      "Searching node...\n",
      "2\n",
      "Searching node...\n",
      "3\n",
      "Searching node...\n",
      "4\n",
      "Searching node...\n",
      "5\n",
      "Searching node...\n",
      "6\n",
      "Searching node...\n",
      "7\n",
      "Searching node...\n",
      "8\n",
      "Searching node...\n",
      "9\n",
      "Searching node...\n",
      "Searching node...\n",
      "Searching node...\n",
      "Searching node...\n",
      "Searching node...\n",
      "Searching node...\n",
      "Searching node...\n"
     ]
    }
   ],
   "source": [
    "depth_first_search(root, 2, 0)"
   ]
  },
  {
   "cell_type": "code",
   "execution_count": 16,
   "id": "e5c4ce4c-ac0c-40b8-9279-1bbe2ec881eb",
   "metadata": {},
   "outputs": [
    {
     "name": "stdout",
     "output_type": "stream",
     "text": [
      "root: \t0x7ca5b0a2910B33e9759DC7dDB0413949071D7575\n",
      "    minter: \t0xd061D61a4d941c39E5453435B6345Dc261C2fcE0\n",
      "        token: \t0xD533a949740bb3306d119CC777fa900bA034cd52\n",
      "        controller: \t0x2F50D538606Fa9EDD2B11E2446BEb18C9D5846bB\n",
      "    crv_token: \t0xD533a949740bb3306d119CC777fa900bA034cd52\n",
      "        minter: \t0xd061D61a4d941c39E5453435B6345Dc261C2fcE0\n",
      "        admin: \t0x40907540d8a6C65c637785e8f8B742ae6b0b9968\n",
      "    lp_token: \t0x845838DF265Dcd2c412A1Dc9e959c7d08537f8a2\n",
      "    controller: \t0x2F50D538606Fa9EDD2B11E2446BEb18C9D5846bB\n",
      "        admin: \t0x40907540d8a6C65c637785e8f8B742ae6b0b9968\n",
      "        future_admin: \t0x40907540d8a6C65c637785e8f8B742ae6b0b9968\n",
      "        token: \t0xD533a949740bb3306d119CC777fa900bA034cd52\n",
      "        voting_escrow: \t0x5f3b5DfEb7B28CDbD7FAba78963EE202a494e2A2\n",
      "        gauges: \t0x7ca5b0a2910B33e9759DC7dDB0413949071D7575\n",
      "        gauges: \t0xBC89cd85491d81C6AD2954E6d0362Ee29fCa8F53\n",
      "        gauges: \t0xFA712EE4788C042e2B7BB55E6cb8ec569C4530c1\n",
      "        gauges: \t0x69Fb7c45726cfE2baDeE8317005d3F94bE838840\n",
      "        gauges: \t0x64E3C23bfc40722d3B649844055F1D51c1ac041d\n",
      "        gauges: \t0xB1F2cdeC61db658F091671F5f199635aEF202CAC\n",
      "        gauges: \t0xA90996896660DEcC6E997655E065b23788857849\n",
      "        gauges: \t0x705350c4BcD35c9441419DdD5d2f097d7a55410F\n",
      "        gauges: \t0x4c18E409Dc8619bFb6a1cB56D114C3f592E0aE79\n",
      "        gauges: \t0xbFcF63294aD7105dEa65aA58F8AE5BE2D9d0952A\n",
      "    voting_escrow: \t0x5f3b5DfEb7B28CDbD7FAba78963EE202a494e2A2\n",
      "        token: \t0xD533a949740bb3306d119CC777fa900bA034cd52\n",
      "        controller: \t0xc4AD0Ef33A0A4ddA3461c479ccb6c36d1e4B7Be4\n",
      "        future_smart_wallet_checker: \t0xca719728Ef172d0961768581fdF35CB116e0B7a4\n",
      "        smart_wallet_checker: \t0xca719728Ef172d0961768581fdF35CB116e0B7a4\n",
      "        admin: \t0x40907540d8a6C65c637785e8f8B742ae6b0b9968\n",
      "        future_admin: \t0x40907540d8a6C65c637785e8f8B742ae6b0b9968\n"
     ]
    }
   ],
   "source": [
    "def print_tree(node, level=0):\n",
    "    print('    ' * level + node.name + \": \\t\" + node.address)\n",
    "    for child in node.children:\n",
    "        print_tree(child, level+1)\n",
    "\n",
    "print_tree(root)"
   ]
  },
  {
   "cell_type": "markdown",
   "id": "cfc6021e-dfd0-45e1-85a4-109407ba57df",
   "metadata": {},
   "source": [
    "### Pool / Gauge Registry "
   ]
  },
  {
   "cell_type": "markdown",
   "id": "7c8bb3f5-09dc-43b5-9332-662cbc2fa621",
   "metadata": {},
   "source": [
    "The curve Registry holds the all of the relevant curve contracts"
   ]
  },
  {
   "cell_type": "code",
   "execution_count": 32,
   "id": "e9f7dfe7-341b-461a-8b3c-fc92a40e5460",
   "metadata": {},
   "outputs": [],
   "source": [
    "#potential correct address 0xa5d0918610b1183Db6c8299243b977B2eF920cE7 for determining Gauges off pools.\n"
   ]
  },
  {
   "cell_type": "code",
   "execution_count": 11,
   "id": "e56781b0-ac0c-4a3a-8f5b-03e6e1f45bb4",
   "metadata": {},
   "outputs": [],
   "source": [
    "#Contract set up Registry\n",
    "reg = Web3.toChecksumAddress('0x90E00ACe148ca3b23Ac1bC8C240C2a7Dd9c2d7f5')\n",
    "regContractABI = etherscan.get_contract_abi(reg) \n",
    "regContractInstance = web3.eth.contract(address=reg, abi=regContractABI)\n",
    "\n",
    "#Pool info Contract\n",
    "poolInfo = Web3.toChecksumAddress('0xe64608E223433E8a03a1DaaeFD8Cb638C14B552C')\n",
    "poolInfoABI = etherscan.get_contract_abi(poolInfo)\n",
    "poolInfoContractInstance =  web3.eth.contract(address=poolInfo, abi=poolInfoABI)"
   ]
  },
  {
   "cell_type": "code",
   "execution_count": 12,
   "id": "0671b935-075f-4422-a3b5-d1ce0009f2b8",
   "metadata": {},
   "outputs": [],
   "source": [
    "def buildGaugeMappingFromGaugeController():\n",
    "    #mapping DF\n",
    "    gaugeMappingDF = pd.DataFrame()\n",
    "    \n",
    "    #Missing details counter\n",
    "    counter = 0\n",
    "    \n",
    "    #Gauge Controller Address\n",
    "    gaugeControllerAddress = Web3.toChecksumAddress('0x2F50D538606Fa9EDD2B11E2446BEb18C9D5846bB' )\n",
    "    gaugeControllerAddressABI = etherscan.get_contract_abi(gaugeControllerAddress) \n",
    "    gaugeControllerAddressContract = web3.eth.contract(address=gaugeControllerAddress, abi=gaugeControllerAddressABI)\n",
    "    \n",
    "    #Registry Address\n",
    "    regAddress = Web3.toChecksumAddress('0xF98B45FA17DE75FB1aD0e7aFD971b0ca00e379fC')\n",
    "    regAddressABI =  etherscan.get_contract_abi(regAddress)\n",
    "    regAddressContract = web3.eth.contract(address=regAddress, abi=regAddressABI)\n",
    "    \n",
    "    for i in range(gaugeControllerAddressContract.functions.n_gauges().call()):\n",
    "    #for i in range(2):\n",
    "        gaugeAddr = Web3.toChecksumAddress(gaugeControllerAddressContract.functions.gauges(i).call())\n",
    "        try:\n",
    "            gaugeAddr = Web3.toChecksumAddress(gaugeControllerAddressContract.functions.gauges(i).call())\n",
    "            gaugeMappingDF.loc[i, 'Gauge_Address'] = gaugeAddr\n",
    "\n",
    "            currentGaugeABI = etherscan.get_contract_abi(gaugeAddr) \n",
    "            currentGaugeContract = web3.eth.contract(address=gaugeAddr, abi=currentGaugeABI)\n",
    "\n",
    "            lpTokenAddr = currentGaugeContract.functions.lp_token().call()\n",
    "            gaugeMappingDF.loc[i, 'LP_Token'] = lpTokenAddr\n",
    "\n",
    "            pool = Web3.toChecksumAddress(regAddressContract.functions.get_pool_from_lp_token(lpTokenAddr).call())\n",
    "            gaugeMappingDF.loc[i, 'Pool'] = pool\n",
    "\n",
    "            gaugeMappingDF.loc[i, 'Name'] = regAddressContract.functions.get_pool_name(pool).call()\n",
    "            \n",
    "        except:\n",
    "            print(f'{counter}. missing information for Gauge {i}: {gaugeAddr}')\n",
    "            counter += 1\n",
    "        \n",
    "    return gaugeMappingDF\n",
    "       "
   ]
  },
  {
   "cell_type": "code",
   "execution_count": 13,
   "id": "04a2e4f7-393e-402b-b086-4e5fce741543",
   "metadata": {},
   "outputs": [
    {
     "name": "stdout",
     "output_type": "stream",
     "text": [
      "0. missing information for Gauge 10: 0x18478F737d40ed7DEFe5a9d6F1560d84E283B74e\n",
      "1. missing information for Gauge 26: 0xd69ac8d9D25e99446171B5D0B3E4234dAd294890\n",
      "2. missing information for Gauge 30: 0x8101E6760130be2C8Ace79643AB73500571b7162\n",
      "3. missing information for Gauge 32: 0xC85b385C8587219b1085A264f0235225644a5dD9\n",
      "4. missing information for Gauge 33: 0x174baa6b56ffe479b604CC20f22D09AD74F1Ca49\n",
      "5. missing information for Gauge 42: 0xb9C05B8EE41FDCbd9956114B3aF15834FDEDCb54\n",
      "6. missing information for Gauge 43: 0xfE1A3dD8b169fB5BF0D5dbFe813d956F39fF6310\n",
      "7. missing information for Gauge 44: 0xC48f4653dd6a9509De44c92beb0604BEA3AEe714\n",
      "8. missing information for Gauge 46: 0x488E6ef919C2bB9de535C634a80afb0114DA8F62\n",
      "9. missing information for Gauge 47: 0xfDb129ea4b6f557b07BcDCedE54F665b7b6Bc281\n",
      "10. missing information for Gauge 48: 0x060e386eCfBacf42Aa72171Af9EFe17b3993fC4F\n",
      "11. missing information for Gauge 49: 0x6C09F6727113543Fd061a721da512B7eFCDD0267\n",
      "12. missing information for Gauge 61: 0xFf17560d746F85674FE7629cE986E949602EF948\n",
      "13. missing information for Gauge 62: 0x9044E12fB1732f88ed0c93cfa5E9bB9bD2990cE5\n",
      "14. missing information for Gauge 63: 0x9F86c5142369B1Ffd4223E5A2F2005FC66807894\n",
      "15. missing information for Gauge 64: 0x260e4fBb13DD91e187AE992c3435D0cf97172316\n",
      "16. missing information for Gauge 69: 0xB504b6EB06760019801a91B451d3f7BD9f027fC9\n",
      "17. missing information for Gauge 70: 0x75D05190f35567e79012c2F0a02330D3Ed8a1F74\n",
      "18. missing information for Gauge 71: 0xa05E565cA0a103FcD999c7A7b8de7Bd15D5f6505\n",
      "19. missing information for Gauge 72: 0xf2Cde8c47C20aCbffC598217Ad5FE6DB9E00b163\n",
      "20. missing information for Gauge 79: 0x56eda719d82aE45cBB87B7030D3FB485685Bea45\n",
      "21. missing information for Gauge 80: 0xAF78381216a8eCC7Ad5957f3cD12a431500E0B0D\n",
      "22. missing information for Gauge 96: 0x279f11F8E2825dbe0b00F6776376601AC948d868\n",
      "23. missing information for Gauge 100: 0xF2dDF89C04d702369Ab9eF8399Edb99a76e951Ce\n",
      "24. missing information for Gauge 103: 0x95069889DF0BCdf15bc3182c1A4D6B20631F3B46\n",
      "25. missing information for Gauge 105: 0xc1c5B8aAfE653592627B54B9527C7E98326e83Ff\n",
      "26. missing information for Gauge 106: 0x1c77fB5486545810679D53E325d5bCf6C6A45081\n",
      "27. missing information for Gauge 108: 0x9562c4D2E06aAf85efC5367Fb4544ECeB788465E\n",
      "28. missing information for Gauge 109: 0xbAF05d7aa4129CA14eC45cC9d4103a9aB9A9fF60\n",
      "29. missing information for Gauge 112: 0xfbb5b8f2f9b7a4d21ff44dC724C1Fb7b531A6612\n",
      "30. missing information for Gauge 113: 0xA6ff75281eACa4cD5fEEb333e8E15558208295e5\n",
      "31. missing information for Gauge 114: 0x1AEAA1b998307217D62E9eeFb6407B10598eF3b8\n",
      "32. missing information for Gauge 115: 0x18006c6A7955Bf6Db72DE34089B975f733601660\n",
      "33. missing information for Gauge 116: 0xd0698b2E41C42bcE42B51f977F962Fd127cF82eA\n",
      "34. missing information for Gauge 117: 0xc5aE4B5F86332e70f3205a8151Ee9eD9F71e0797\n",
      "35. missing information for Gauge 118: 0xdA690c2EA49a058a9966C69f46a05Bfc225939f4\n",
      "36. missing information for Gauge 120: 0x34eD182D0812D119c92907852D2B429f095A9b07\n",
      "37. missing information for Gauge 122: 0x82049b520cAc8b05E703bb35d1691B5005A92848\n",
      "38. missing information for Gauge 123: 0x15bB164F9827De760174d3d3dAD6816eF50dE13c\n",
      "39. missing information for Gauge 124: 0xF7b9c402c4D6c2eDbA04a7a515b53D11B1E9b2cc\n",
      "40. missing information for Gauge 125: 0xbC38bD19227F91424eD4132F630f51C9A42Fa338\n",
      "41. missing information for Gauge 126: 0x319E268f0A4C85D404734ee7958857F5891506d7\n",
      "42. missing information for Gauge 127: 0x20759F567BB3EcDB55c817c9a1d13076aB215EdC\n",
      "43. missing information for Gauge 128: 0xBb1B19495B8FE7C402427479B9aC14886cbbaaeE\n",
      "44. missing information for Gauge 129: 0x8D9649e50A0d1da8E939f800fB926cdE8f18B47D\n",
      "45. missing information for Gauge 130: 0x8b397084699Cc64E429F610F81Fac13bf061ef55\n",
      "46. missing information for Gauge 131: 0xCE5F24B7A95e9cBa7df4B54E911B4A3Dc8CDAf6f\n",
      "47. missing information for Gauge 132: 0xDB3fd1bfC67b5D4325cb31C04E0Cae52f1787FD6\n",
      "48. missing information for Gauge 133: 0x555766f3da968ecBefa690Ffd49A2Ac02f47aa5f\n",
      "49. missing information for Gauge 134: 0x6339eF8Df0C2d3d3E7eE697E241666a916B81587\n",
      "50. missing information for Gauge 135: 0x4620D46b4db7fB04a01A75fFed228Bc027C9A899\n",
      "51. missing information for Gauge 136: 0x00F7d467ef51E44f11f52a0c0Bef2E56C271b264\n",
      "52. missing information for Gauge 137: 0x1879075f1c055564CB968905aC404A5A01a1699A\n",
      "53. missing information for Gauge 147: 0x94A5E05D66834c6C6961E199D34dA576679fC187\n",
      "54. missing information for Gauge 149: 0xF4eA7617E7999710244e2eAbfC8730d35482EE76\n",
      "55. missing information for Gauge 152: 0xB721Cc32160Ab0da2614CC6aB16eD822Aeebc101\n",
      "56. missing information for Gauge 153: 0xD1426C391A7Cbe9DeCd302ac9c44e65C3505d1f0\n",
      "57. missing information for Gauge 163: 0xCB8883D1D8c560003489Df43B30612AAbB8013bb\n",
      "58. missing information for Gauge 164: 0x172a5AF37f69C69CC59E748D090a70615830A5Dd\n",
      "59. missing information for Gauge 176: 0x15F52286C0FF1d7A7dDbC9E300dd66628D46D4e6\n",
      "60. missing information for Gauge 177: 0x4B960396011A914B4ccCC3b33DFEE83A97A9D766\n",
      "61. missing information for Gauge 178: 0x95285Ea6fF14F80A2fD3989a6bAb993Bd6b5fA13\n",
      "62. missing information for Gauge 202: 0x40371aad2a24ed841316EF30938881440FD4426c\n",
      "63. missing information for Gauge 206: 0x0e2f214b8f5D0ccA011A8298bb907fb62f535160\n",
      "64. missing information for Gauge 209: 0x55f9Ba282c39793DB29C68F8f113fC97D23a6445\n",
      "65. missing information for Gauge 210: 0x18C45C10A0f41Bc3ed8d6324C687335179A40b28\n"
     ]
    }
   ],
   "source": [
    "gaugeControllerAddresses = buildGaugeMappingFromGaugeController()"
   ]
  },
  {
   "cell_type": "code",
   "execution_count": 35,
   "id": "c92c15de-ab77-4544-9fd1-ffdcd3e28433",
   "metadata": {},
   "outputs": [
    {
     "data": {
      "text/plain": [
       "0      compound\n",
       "1          usdt\n",
       "2             y\n",
       "3          busd\n",
       "4           pax\n",
       "5           ren\n",
       "6          susd\n",
       "7          sbtc\n",
       "8          hbtc\n",
       "9         3pool\n",
       "10          NaN\n",
       "11         gusd\n",
       "12         husd\n",
       "13         usdk\n",
       "14         usdn\n",
       "15         musd\n",
       "16         tbtc\n",
       "17          rsv\n",
       "18         dusd\n",
       "19         bbtc\n",
       "20         obtc\n",
       "21         pbtc\n",
       "22          ust\n",
       "23         eurs\n",
       "24         seth\n",
       "25         aave\n",
       "26          NaN\n",
       "27        steth\n",
       "28         aeth\n",
       "29        saave\n",
       "30          NaN\n",
       "31           ib\n",
       "32          NaN\n",
       "33          NaN\n",
       "34         link\n",
       "35         usdp\n",
       "36         tusd\n",
       "37       busdv2\n",
       "38         frax\n",
       "39         lusd\n",
       "40         reth\n",
       "41        alusd\n",
       "42          NaN\n",
       "43          NaN\n",
       "44          NaN\n",
       "45    tricrypto\n",
       "46          NaN\n",
       "47          NaN\n",
       "48          NaN\n",
       "49          NaN\n",
       "Name: Name, dtype: object"
      ]
     },
     "execution_count": 35,
     "metadata": {},
     "output_type": "execute_result"
    }
   ],
   "source": [
    "gaugeControllerAddresses['Name'].head(50)"
   ]
  },
  {
   "cell_type": "code",
   "execution_count": 41,
   "id": "733f8b22-7e49-484b-b99a-5a63fceb8794",
   "metadata": {},
   "outputs": [],
   "source": [
    "test.to_excel(\"gaugePoolAddrMapping.xlsx\")"
   ]
  },
  {
   "cell_type": "markdown",
   "id": "39c84e6d-bb49-4b31-98f8-f33ec7816697",
   "metadata": {},
   "source": [
    "### Turning Snapshot Data into Gauge only Data  "
   ]
  },
  {
   "cell_type": "code",
   "execution_count": 15,
   "id": "72a19836-f8d7-4904-9041-ef3273c798e6",
   "metadata": {},
   "outputs": [
    {
     "data": {
      "text/html": [
       "<div>\n",
       "<style scoped>\n",
       "    .dataframe tbody tr th:only-of-type {\n",
       "        vertical-align: middle;\n",
       "    }\n",
       "\n",
       "    .dataframe tbody tr th {\n",
       "        vertical-align: top;\n",
       "    }\n",
       "\n",
       "    .dataframe thead th {\n",
       "        text-align: right;\n",
       "    }\n",
       "</style>\n",
       "<table border=\"1\" class=\"dataframe\">\n",
       "  <thead>\n",
       "    <tr style=\"text-align: right;\">\n",
       "      <th></th>\n",
       "      <th>id</th>\n",
       "      <th>title</th>\n",
       "      <th>start</th>\n",
       "      <th>end</th>\n",
       "      <th>snapshot</th>\n",
       "      <th>state</th>\n",
       "      <th>choices</th>\n",
       "      <th>scores</th>\n",
       "      <th>scores_updated</th>\n",
       "    </tr>\n",
       "  </thead>\n",
       "  <tbody>\n",
       "    <tr>\n",
       "      <th>0</th>\n",
       "      <td>0xeb394eaf113f49467e63bb0601f732dab8b53d51dcfb...</td>\n",
       "      <td>[Curve] Ownership DAO Vote ID: 257</td>\n",
       "      <td>1673580194</td>\n",
       "      <td>1673839394</td>\n",
       "      <td>16395164</td>\n",
       "      <td>closed</td>\n",
       "      <td>[yes, no]</td>\n",
       "      <td>[10872827.147434382, 51]</td>\n",
       "      <td>1673839407</td>\n",
       "    </tr>\n",
       "    <tr>\n",
       "      <th>1</th>\n",
       "      <td>0xc8646a468df40bee943b0f9e7f32608bfc8cdd7fb4a2...</td>\n",
       "      <td>[Curve] Ownership DAO Vote ID: 256</td>\n",
       "      <td>1673546570</td>\n",
       "      <td>1673805770</td>\n",
       "      <td>16392382</td>\n",
       "      <td>closed</td>\n",
       "      <td>[yes, no]</td>\n",
       "      <td>[10544017.25852192, 0]</td>\n",
       "      <td>1673805778</td>\n",
       "    </tr>\n",
       "    <tr>\n",
       "      <th>2</th>\n",
       "      <td>0xe40dfe01dadeb8a1f9d39be257b398a6f0c74e310a53...</td>\n",
       "      <td>[Curve] Ownership DAO Vote ID: 255</td>\n",
       "      <td>1673458493</td>\n",
       "      <td>1673717693</td>\n",
       "      <td>16385092</td>\n",
       "      <td>closed</td>\n",
       "      <td>[yes, no]</td>\n",
       "      <td>[12541613.819012424, 520.8548228937015]</td>\n",
       "      <td>1673717705</td>\n",
       "    </tr>\n",
       "    <tr>\n",
       "      <th>3</th>\n",
       "      <td>0x525320cb1109ff924905ff9f0859d9fe80e2366707e7...</td>\n",
       "      <td>[Curve] Ownership DAO Vote ID: 254</td>\n",
       "      <td>1673417800</td>\n",
       "      <td>1673677000</td>\n",
       "      <td>16381720</td>\n",
       "      <td>closed</td>\n",
       "      <td>[yes, no]</td>\n",
       "      <td>[14089070.272303613, 27032.766278859937]</td>\n",
       "      <td>1673677015</td>\n",
       "    </tr>\n",
       "    <tr>\n",
       "      <th>4</th>\n",
       "      <td>0x36131b924f6b94a999d28b999e571d731d35daec1415...</td>\n",
       "      <td>[Frax] [FIP - 158] Deploy Fraxferry for sfrxET...</td>\n",
       "      <td>1673397601</td>\n",
       "      <td>1673656738</td>\n",
       "      <td>16380043</td>\n",
       "      <td>closed</td>\n",
       "      <td>[For, Against]</td>\n",
       "      <td>[8367894.703602485, 0]</td>\n",
       "      <td>1673656748</td>\n",
       "    </tr>\n",
       "    <tr>\n",
       "      <th>...</th>\n",
       "      <td>...</td>\n",
       "      <td>...</td>\n",
       "      <td>...</td>\n",
       "      <td>...</td>\n",
       "      <td>...</td>\n",
       "      <td>...</td>\n",
       "      <td>...</td>\n",
       "      <td>...</td>\n",
       "      <td>...</td>\n",
       "    </tr>\n",
       "    <tr>\n",
       "      <th>341</th>\n",
       "      <td>QmeBD4Z3smTkS591XYmM2MEwQiZHTTMYRaC9K2YytrJXjC</td>\n",
       "      <td>Curve Parameter DAO Vote ID: 22</td>\n",
       "      <td>1631607255</td>\n",
       "      <td>1631866455</td>\n",
       "      <td>13222705</td>\n",
       "      <td>closed</td>\n",
       "      <td>[yes, no]</td>\n",
       "      <td>[3034184.4229196357, 22869.77412543479]</td>\n",
       "      <td>1636757839</td>\n",
       "    </tr>\n",
       "    <tr>\n",
       "      <th>342</th>\n",
       "      <td>QmSpSamBMzDL8uheNnWAQiThcC7NzmPmyV4go1srfhPx5H</td>\n",
       "      <td>Curve Parameter DAO Vote ID: 21</td>\n",
       "      <td>1631370756</td>\n",
       "      <td>1631629956</td>\n",
       "      <td>13205005</td>\n",
       "      <td>closed</td>\n",
       "      <td>[yes, no]</td>\n",
       "      <td>[2652450.407693955, 130143.80176909914]</td>\n",
       "      <td>1636757776</td>\n",
       "    </tr>\n",
       "    <tr>\n",
       "      <th>343</th>\n",
       "      <td>QmUFZuREirQDUwLis7rAp9ch4V7jpVBM4aPY89BLqvXfWp</td>\n",
       "      <td>(TEST)Gauge Weight for Week of 9th Sep 2021</td>\n",
       "      <td>1631145659</td>\n",
       "      <td>1631577659</td>\n",
       "      <td>13188218</td>\n",
       "      <td>closed</td>\n",
       "      <td>[compound, usdt, ypool, busd, susd, pax, ren, ...</td>\n",
       "      <td>[77.74545193338012, 77.74545193338012, 0, 0, 0...</td>\n",
       "      <td>1636757668</td>\n",
       "    </tr>\n",
       "    <tr>\n",
       "      <th>344</th>\n",
       "      <td>QmaskZW4ohfpxoAvtmVv3Jh3kbfpzxSWgTHsUcqSv6FLfY</td>\n",
       "      <td>(TEST)Gauge Weight for Week of 27th Aug 2021</td>\n",
       "      <td>1630103842</td>\n",
       "      <td>1630535842</td>\n",
       "      <td>13110174</td>\n",
       "      <td>closed</td>\n",
       "      <td>[compound, usdt, ypool, busd, susd, pax, ren, ...</td>\n",
       "      <td>[47959.96550564179, 8420.111333930574, 183.677...</td>\n",
       "      <td>1636757077</td>\n",
       "    </tr>\n",
       "    <tr>\n",
       "      <th>345</th>\n",
       "      <td>QmbHjwsUeLwVqhJSgcuArvqD1dmN525NvZ2JjTNCBGEFoA</td>\n",
       "      <td>(TEST)Gauge Weight for Week of 18th Aug 2021</td>\n",
       "      <td>1629331200</td>\n",
       "      <td>1629763200</td>\n",
       "      <td>13052292</td>\n",
       "      <td>closed</td>\n",
       "      <td>[compound, usdt, iearn, busd, susdv2, pax, ren...</td>\n",
       "      <td>[711.3166453369457, 162.4522462228106, 162.452...</td>\n",
       "      <td>1636756760</td>\n",
       "    </tr>\n",
       "  </tbody>\n",
       "</table>\n",
       "<p>346 rows × 9 columns</p>\n",
       "</div>"
      ],
      "text/plain": [
       "                                                    id  \\\n",
       "0    0xeb394eaf113f49467e63bb0601f732dab8b53d51dcfb...   \n",
       "1    0xc8646a468df40bee943b0f9e7f32608bfc8cdd7fb4a2...   \n",
       "2    0xe40dfe01dadeb8a1f9d39be257b398a6f0c74e310a53...   \n",
       "3    0x525320cb1109ff924905ff9f0859d9fe80e2366707e7...   \n",
       "4    0x36131b924f6b94a999d28b999e571d731d35daec1415...   \n",
       "..                                                 ...   \n",
       "341     QmeBD4Z3smTkS591XYmM2MEwQiZHTTMYRaC9K2YytrJXjC   \n",
       "342     QmSpSamBMzDL8uheNnWAQiThcC7NzmPmyV4go1srfhPx5H   \n",
       "343     QmUFZuREirQDUwLis7rAp9ch4V7jpVBM4aPY89BLqvXfWp   \n",
       "344     QmaskZW4ohfpxoAvtmVv3Jh3kbfpzxSWgTHsUcqSv6FLfY   \n",
       "345     QmbHjwsUeLwVqhJSgcuArvqD1dmN525NvZ2JjTNCBGEFoA   \n",
       "\n",
       "                                                 title       start  \\\n",
       "0                   [Curve] Ownership DAO Vote ID: 257  1673580194   \n",
       "1                   [Curve] Ownership DAO Vote ID: 256  1673546570   \n",
       "2                   [Curve] Ownership DAO Vote ID: 255  1673458493   \n",
       "3                   [Curve] Ownership DAO Vote ID: 254  1673417800   \n",
       "4    [Frax] [FIP - 158] Deploy Fraxferry for sfrxET...  1673397601   \n",
       "..                                                 ...         ...   \n",
       "341                    Curve Parameter DAO Vote ID: 22  1631607255   \n",
       "342                    Curve Parameter DAO Vote ID: 21  1631370756   \n",
       "343        (TEST)Gauge Weight for Week of 9th Sep 2021  1631145659   \n",
       "344       (TEST)Gauge Weight for Week of 27th Aug 2021  1630103842   \n",
       "345       (TEST)Gauge Weight for Week of 18th Aug 2021  1629331200   \n",
       "\n",
       "            end  snapshot   state  \\\n",
       "0    1673839394  16395164  closed   \n",
       "1    1673805770  16392382  closed   \n",
       "2    1673717693  16385092  closed   \n",
       "3    1673677000  16381720  closed   \n",
       "4    1673656738  16380043  closed   \n",
       "..          ...       ...     ...   \n",
       "341  1631866455  13222705  closed   \n",
       "342  1631629956  13205005  closed   \n",
       "343  1631577659  13188218  closed   \n",
       "344  1630535842  13110174  closed   \n",
       "345  1629763200  13052292  closed   \n",
       "\n",
       "                                               choices  \\\n",
       "0                                            [yes, no]   \n",
       "1                                            [yes, no]   \n",
       "2                                            [yes, no]   \n",
       "3                                            [yes, no]   \n",
       "4                                       [For, Against]   \n",
       "..                                                 ...   \n",
       "341                                          [yes, no]   \n",
       "342                                          [yes, no]   \n",
       "343  [compound, usdt, ypool, busd, susd, pax, ren, ...   \n",
       "344  [compound, usdt, ypool, busd, susd, pax, ren, ...   \n",
       "345  [compound, usdt, iearn, busd, susdv2, pax, ren...   \n",
       "\n",
       "                                                scores  scores_updated  \n",
       "0                             [10872827.147434382, 51]      1673839407  \n",
       "1                               [10544017.25852192, 0]      1673805778  \n",
       "2              [12541613.819012424, 520.8548228937015]      1673717705  \n",
       "3             [14089070.272303613, 27032.766278859937]      1673677015  \n",
       "4                               [8367894.703602485, 0]      1673656748  \n",
       "..                                                 ...             ...  \n",
       "341            [3034184.4229196357, 22869.77412543479]      1636757839  \n",
       "342            [2652450.407693955, 130143.80176909914]      1636757776  \n",
       "343  [77.74545193338012, 77.74545193338012, 0, 0, 0...      1636757668  \n",
       "344  [47959.96550564179, 8420.111333930574, 183.677...      1636757077  \n",
       "345  [711.3166453369457, 162.4522462228106, 162.452...      1636756760  \n",
       "\n",
       "[346 rows x 9 columns]"
      ]
     },
     "execution_count": 15,
     "metadata": {},
     "output_type": "execute_result"
    }
   ],
   "source": [
    "dataDF"
   ]
  },
  {
   "cell_type": "code",
   "execution_count": 19,
   "id": "71a1e585-04b7-45af-9221-e4b4d2174b81",
   "metadata": {},
   "outputs": [],
   "source": [
    "def gaugeProposalsOnly(data):\n",
    "    gaugeIndices = []\n",
    "    for i in range(len(data)):\n",
    "        # gaugeIndices.append(data[i]['title'].split()[0] == 'Gauge')\n",
    "        if data.loc[i]['title'].split()[0] == 'Gauge':\n",
    "            gaugeIndices.append(i)\n",
    "\n",
    "    gaugeDataIndices = []\n",
    "    for index in gaugeIndices:\n",
    "        gaugeDataIndices.append(data.loc[index])\n",
    "\n",
    "    gaugeData = pd.DataFrame(gaugeDataIndices)\n",
    "    gaugeData = gaugeData.reset_index(drop = True)\n",
    "    \n",
    "    return gaugeData"
   ]
  },
  {
   "cell_type": "code",
   "execution_count": 20,
   "id": "1021e59a-659f-443d-ad7d-5e16af2b8d58",
   "metadata": {},
   "outputs": [],
   "source": [
    "gaugeData = gaugeProposalsOnly(dataDF)"
   ]
  },
  {
   "cell_type": "code",
   "execution_count": 91,
   "id": "2ea90888-1877-4835-b7be-ba04ea6f07cc",
   "metadata": {},
   "outputs": [
    {
     "data": {
      "text/plain": [
       "'bafkreiepapq2rgoh4udx273ygz5lbgvg6ysnwva6kvz2rinj26lat7ilsm'"
      ]
     },
     "execution_count": 91,
     "metadata": {},
     "output_type": "execute_result"
    }
   ],
   "source": [
    "gaugeData.loc[9,'id']"
   ]
  },
  {
   "cell_type": "code",
   "execution_count": 62,
   "id": "1f9456b4-c1f1-4003-adf6-91dd8fa5e0c1",
   "metadata": {},
   "outputs": [
    {
     "name": "stdout",
     "output_type": "stream",
     "text": [
      "0xa2b4…7a56\n"
     ]
    }
   ],
   "source": [
    "poolAddress = gaugeControllerAddresses.loc[0,'Pool']\n",
    "print(poolAddress[:6].lower() + '…'+ poolAddress[-4:].lower())"
   ]
  },
  {
   "cell_type": "code",
   "execution_count": 102,
   "id": "bfd1f9cc-d360-4987-8bc8-77992a2861ba",
   "metadata": {},
   "outputs": [],
   "source": []
  },
  {
   "cell_type": "code",
   "execution_count": 103,
   "id": "cb992ea9-1eed-4505-9f53-50070c61f740",
   "metadata": {},
   "outputs": [
    {
     "data": {
      "text/html": [
       "<div>\n",
       "<style scoped>\n",
       "    .dataframe tbody tr th:only-of-type {\n",
       "        vertical-align: middle;\n",
       "    }\n",
       "\n",
       "    .dataframe tbody tr th {\n",
       "        vertical-align: top;\n",
       "    }\n",
       "\n",
       "    .dataframe thead th {\n",
       "        text-align: right;\n",
       "    }\n",
       "</style>\n",
       "<table border=\"1\" class=\"dataframe\">\n",
       "  <thead>\n",
       "    <tr style=\"text-align: right;\">\n",
       "      <th></th>\n",
       "      <th>Name</th>\n",
       "      <th>SnapshotIndex</th>\n",
       "      <th>GaugeControllerIndex</th>\n",
       "    </tr>\n",
       "  </thead>\n",
       "  <tbody>\n",
       "  </tbody>\n",
       "</table>\n",
       "</div>"
      ],
      "text/plain": [
       "Empty DataFrame\n",
       "Columns: [Name, SnapshotIndex, GaugeControllerIndex]\n",
       "Index: []"
      ]
     },
     "execution_count": 103,
     "metadata": {},
     "output_type": "execute_result"
    }
   ],
   "source": [
    "beaconDF"
   ]
  },
  {
   "cell_type": "code",
   "execution_count": 108,
   "id": "a8047f1c-48e0-4cb7-ada3-25514d15acb2",
   "metadata": {},
   "outputs": [],
   "source": [
    "def mapSnapshotDataToGaugeController(data):\n",
    "    cols = ['Name','SnapshotIndex','GaugeControllerIndex','PercentageOfVote']\n",
    "    beaconDF = pd.DataFrame(columns = cols)\n",
    "    #for i in range(len(data)):\n",
    "    for i in range(9,10): #THIS WILL NEED TO BE CHANGED TO SEARCH FOR THE BEACON PROPOSAL (id 'bafkreiepapq2rgoh4udx273ygz5lbgvg6ysnwva6kvz2rinj26lat7ilsm')\n",
    "        print(f'Vote No: {i}' )\n",
    "        scores = data.loc[i, 'scores']\n",
    "        choice = data.loc[i, 'choices']\n",
    "        for j in range(len(scores)):\n",
    "            word = choice[j]\n",
    "            beaconDF.loc[j,'Name'] = word\n",
    "            beaconDF.loc[j,'SnapshotIndex'] = j \n",
    "            for k in range(len(gaugeControllerAddresses)):\n",
    "                try:\n",
    "                    poolAddress = gaugeControllerAddresses.loc[k,'Pool']\n",
    "                    gaugeName = (poolAddress[:6] +  '…'+ poolAddress[-4:])\n",
    "                    if gaugeName.lower() in word.lower():\n",
    "                        beaconDF.loc[j,'GaugeControllerIndex'] = k\n",
    "                        beaconDF.loc[j,'PercentageOfVote'] = scores[j]\n",
    "                        \n",
    "                        print(str(j) + ':')\n",
    "      \n",
    "                except:\n",
    "                        beaconDF.loc[j,'SnapshotIndex'] = j \n",
    "                        #print('ERROR')\n",
    "                        pass\n",
    "        return beaconDF"
   ]
  },
  {
   "cell_type": "code",
   "execution_count": 87,
   "id": "8220d836-89b7-4f9c-a2f5-f2cb85c3b665",
   "metadata": {},
   "outputs": [],
   "source": [
    "def mapSnapshotDataToGaugeController2(data):\n",
    "    #for i in range(len(data)):\n",
    "    for i in range(9,10):\n",
    "        print(f'Vote No: {i}' )\n",
    "        scores = data.loc[i, 'scores']\n",
    "        choice = data.loc[i, 'choices']\n",
    "        for j in range(len(scores)):\n",
    "            word = choice[j]\n",
    "            for k in range(len(gaugeControllerAddresses)):\n",
    "                gaugeName = gaugeControllerAddresses.loc[k, 'Name']\n",
    "                try:\n",
    "                    if gaugeName.lower() in word.lower():\n",
    "                        print(f'Controller Gauge Name: {gaugeName}')\n",
    "                        print(f'Snapshot Gauge Name: {word}')\n",
    "                        #print(scores[j])\n",
    "                except:\n",
    "                    #print('ERROR')\n",
    "                    pass\n",
    "            \n",
    "            #print(f'Index: {j}')\n",
    "            #print(f'Pool: {firstWord}')\n",
    "            \n",
    "            #if scores[j] > 0:\n",
    "            #    print (str(choice[j]) + ': ')\n",
    "            #    print (scores[j])"
   ]
  },
  {
   "cell_type": "code",
   "execution_count": 109,
   "id": "6805bc7f-b82b-4c97-9e17-51af0937a01d",
   "metadata": {},
   "outputs": [
    {
     "name": "stdout",
     "output_type": "stream",
     "text": [
      "Vote No: 9\n",
      "0:\n",
      "1:\n",
      "2:\n",
      "3:\n",
      "4:\n",
      "5:\n",
      "6:\n",
      "7:\n",
      "8:\n",
      "9:\n",
      "10:\n",
      "11:\n",
      "12:\n",
      "13:\n",
      "14:\n",
      "15:\n",
      "16:\n",
      "17:\n",
      "18:\n",
      "19:\n",
      "20:\n",
      "21:\n",
      "22:\n",
      "23:\n",
      "24:\n",
      "25:\n",
      "26:\n",
      "27:\n",
      "28:\n",
      "29:\n",
      "30:\n",
      "31:\n",
      "32:\n",
      "33:\n",
      "34:\n",
      "35:\n",
      "36:\n",
      "37:\n",
      "38:\n",
      "39:\n",
      "40:\n",
      "41:\n",
      "42:\n",
      "43:\n",
      "44:\n",
      "45:\n",
      "46:\n",
      "47:\n",
      "48:\n",
      "49:\n",
      "50:\n",
      "51:\n",
      "52:\n",
      "53:\n",
      "54:\n",
      "55:\n",
      "56:\n",
      "57:\n",
      "58:\n",
      "59:\n",
      "60:\n",
      "61:\n",
      "62:\n",
      "63:\n",
      "64:\n",
      "65:\n",
      "66:\n",
      "67:\n",
      "68:\n",
      "69:\n",
      "70:\n",
      "71:\n",
      "72:\n",
      "73:\n",
      "74:\n",
      "75:\n",
      "76:\n",
      "77:\n",
      "78:\n",
      "79:\n",
      "80:\n",
      "81:\n",
      "82:\n",
      "83:\n",
      "84:\n",
      "85:\n",
      "86:\n",
      "87:\n",
      "88:\n",
      "89:\n",
      "90:\n",
      "91:\n",
      "92:\n",
      "93:\n",
      "94:\n",
      "95:\n",
      "96:\n",
      "97:\n",
      "98:\n",
      "99:\n",
      "100:\n",
      "101:\n",
      "102:\n",
      "103:\n",
      "104:\n",
      "105:\n",
      "106:\n",
      "107:\n",
      "108:\n",
      "116:\n",
      "127:\n"
     ]
    }
   ],
   "source": [
    "beaconDF = mapSnapshotDataToGaugeController(gaugeData)"
   ]
  },
  {
   "cell_type": "code",
   "execution_count": 111,
   "id": "24b79c5c-ee6b-4efb-8f99-c15da17d7544",
   "metadata": {},
   "outputs": [],
   "source": [
    "beaconDF.to_excel('beacon.xlsx')"
   ]
  },
  {
   "cell_type": "code",
   "execution_count": null,
   "id": "e610fcfd-f307-41e4-8537-e260c7ec0e7c",
   "metadata": {},
   "outputs": [],
   "source": []
  }
 ],
 "metadata": {
  "kernelspec": {
   "display_name": "Python 3 (ipykernel)",
   "language": "python",
   "name": "python3"
  },
  "language_info": {
   "codemirror_mode": {
    "name": "ipython",
    "version": 3
   },
   "file_extension": ".py",
   "mimetype": "text/x-python",
   "name": "python",
   "nbconvert_exporter": "python",
   "pygments_lexer": "ipython3",
   "version": "3.10.7"
  }
 },
 "nbformat": 4,
 "nbformat_minor": 5
}
